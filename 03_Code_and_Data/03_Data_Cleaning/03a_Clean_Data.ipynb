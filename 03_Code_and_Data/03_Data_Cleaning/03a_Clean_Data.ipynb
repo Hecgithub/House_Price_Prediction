{
 "cells": [
  {
   "cell_type": "markdown",
   "id": "e83ab078",
   "metadata": {},
   "source": [
    "# Final Project: House Price Prediction\n",
    "## Corpus Christi Team\n",
    "### Step 3a (Clean the Data)"
   ]
  },
  {
   "cell_type": "markdown",
   "id": "9a8fda47",
   "metadata": {},
   "source": [
    "#### Import requested libraries"
   ]
  },
  {
   "cell_type": "code",
   "execution_count": 1,
   "id": "d0106b8c",
   "metadata": {},
   "outputs": [],
   "source": [
    "import pandas as pd\n",
    "import warnings\n",
    "import glob\n",
    "import os\n",
    "import time\n",
    "from time import sleep\n",
    "from tqdm import tqdm\n",
    "import re\n",
    "\n",
    "warnings.filterwarnings('ignore')\n",
    "pd.set_option('display.max_columns', None)"
   ]
  },
  {
   "cell_type": "markdown",
   "id": "053504b9",
   "metadata": {},
   "source": [
    "#### Input Data"
   ]
  },
  {
   "cell_type": "code",
   "execution_count": 2,
   "id": "1a926af3",
   "metadata": {},
   "outputs": [
    {
     "name": "stdout",
     "output_type": "stream",
     "text": [
      "The file selected is: ../02_Merge_Data/data\\data_Houston_TX_Houses_merged_2023_1_1_12_5.csv\n"
     ]
    }
   ],
   "source": [
    "# Load the input data (only the most recent file)\n",
    "data_path = \"../02_Merge_Data/data/*.csv\"\n",
    "listing = glob.glob(data_path)\n",
    "latest_file = max(listing, key=os.path.getctime)\n",
    "print(f'The file selected is: {latest_file}')"
   ]
  },
  {
   "cell_type": "markdown",
   "id": "9b31c669",
   "metadata": {},
   "source": [
    "#### Load the csv file as a DF"
   ]
  },
  {
   "cell_type": "code",
   "execution_count": 3,
   "id": "d7279bdc",
   "metadata": {},
   "outputs": [
    {
     "name": "stdout",
     "output_type": "stream",
     "text": [
      "rows x cols: 7575 x 36 (raw input data)\n"
     ]
    }
   ],
   "source": [
    "df_raw = pd.read_csv(latest_file)\n",
    "numRows = len(df_raw)\n",
    "numCols = len(df_raw.columns)\n",
    "print(f'rows x cols: {numRows} x {numCols} (raw input data)')"
   ]
  },
  {
   "cell_type": "markdown",
   "id": "0aa42989",
   "metadata": {},
   "source": [
    "#### Clean the DF"
   ]
  },
  {
   "cell_type": "code",
   "execution_count": 4,
   "id": "7f7fd0ec",
   "metadata": {},
   "outputs": [
    {
     "name": "stdout",
     "output_type": "stream",
     "text": [
      "rows x cols: 4501 x 36 (removed duplicated rows)\n"
     ]
    }
   ],
   "source": [
    "# Remove duplicated rows\n",
    "df = df_raw.drop_duplicates(subset='zid', keep=\"first\")\n",
    "numRows = len(df)\n",
    "numCols = len(df.columns)\n",
    "print(f'rows x cols: {numRows} x {numCols} (removed duplicated rows)')"
   ]
  },
  {
   "cell_type": "code",
   "execution_count": 5,
   "id": "f4222352",
   "metadata": {},
   "outputs": [
    {
     "name": "stdout",
     "output_type": "stream",
     "text": [
      "rows x cols: 4501 x 35 (removed empty columns)\n"
     ]
    }
   ],
   "source": [
    "# Remove columns where all values are NaN:\n",
    "df = df.dropna(axis=1, how='all')\n",
    "numRows = len(df)\n",
    "numCols = len(df.columns)\n",
    "print(f'rows x cols: {numRows} x {numCols} (removed empty columns)')"
   ]
  },
  {
   "cell_type": "code",
   "execution_count": 6,
   "id": "43393bbb",
   "metadata": {},
   "outputs": [
    {
     "name": "stdout",
     "output_type": "stream",
     "text": [
      "rows x cols: 4501 x 33 (removed single value columns)\n"
     ]
    }
   ],
   "source": [
    "# Remove columns with a single unique value\n",
    "df.drop(columns=df.columns[df.nunique()==1], inplace=True)\n",
    "numRows = len(df)\n",
    "numCols = len(df.columns)\n",
    "print(f'rows x cols: {numRows} x {numCols} (removed single value columns)')"
   ]
  },
  {
   "cell_type": "code",
   "execution_count": 7,
   "id": "78fc2d40",
   "metadata": {},
   "outputs": [
    {
     "name": "stdout",
     "output_type": "stream",
     "text": [
      "rows x cols: 4501 x 31 (removed unnecessary columns)\n"
     ]
    }
   ],
   "source": [
    "#### Remove unnecessary columns for ML:\n",
    "df = df.drop(['Page', 'Item'], axis=1)\n",
    "numRows = len(df)\n",
    "numCols = len(df.columns)\n",
    "print(f'rows x cols: {numRows} x {numCols} (removed unnecessary columns)')"
   ]
  },
  {
   "cell_type": "code",
   "execution_count": 8,
   "id": "8cf61e32",
   "metadata": {},
   "outputs": [],
   "source": [
    "# Columns heavily imbalanced. Drop before input to ML\n",
    "#df['countyId'].value_counts()\n",
    "#df['taxRate'].value_counts()"
   ]
  },
  {
   "cell_type": "code",
   "execution_count": 9,
   "id": "33a928b0",
   "metadata": {},
   "outputs": [],
   "source": [
    "# Convert lotArea in Acres to sqft using formula: sqft = Acres x 43560\n",
    "df['lotAreaSQFT'] = df['lotArea'].apply(lambda x: x*43560 if x <= 100 else x)"
   ]
  },
  {
   "cell_type": "code",
   "execution_count": 10,
   "id": "4372a98c",
   "metadata": {},
   "outputs": [
    {
     "data": {
      "text/html": [
       "<div>\n",
       "<style scoped>\n",
       "    .dataframe tbody tr th:only-of-type {\n",
       "        vertical-align: middle;\n",
       "    }\n",
       "\n",
       "    .dataframe tbody tr th {\n",
       "        vertical-align: top;\n",
       "    }\n",
       "\n",
       "    .dataframe thead th {\n",
       "        text-align: right;\n",
       "    }\n",
       "</style>\n",
       "<table border=\"1\" class=\"dataframe\">\n",
       "  <thead>\n",
       "    <tr style=\"text-align: right;\">\n",
       "      <th></th>\n",
       "      <th>zid</th>\n",
       "      <th>Address</th>\n",
       "      <th>Lat</th>\n",
       "      <th>Lng</th>\n",
       "      <th>Price</th>\n",
       "      <th>Image</th>\n",
       "      <th>Bedrooms</th>\n",
       "      <th>Bathrooms</th>\n",
       "      <th>lotArea</th>\n",
       "      <th>constructedArea</th>\n",
       "      <th>zipCode</th>\n",
       "      <th>CountyId</th>\n",
       "      <th>taxRate</th>\n",
       "      <th>hasGarage</th>\n",
       "      <th>hasPool</th>\n",
       "      <th>hasCooling</th>\n",
       "      <th>hasView</th>\n",
       "      <th>yearBuilt</th>\n",
       "      <th>stories</th>\n",
       "      <th>parkingSpaces</th>\n",
       "      <th>annualHOI</th>\n",
       "      <th>annualHOA</th>\n",
       "      <th>schoolElemRating</th>\n",
       "      <th>schoolElemDist</th>\n",
       "      <th>schoolMidRating</th>\n",
       "      <th>schoolMidDist</th>\n",
       "      <th>schoolHighRating</th>\n",
       "      <th>schoolHighDist</th>\n",
       "      <th>priceIncreased</th>\n",
       "      <th>priceDiff</th>\n",
       "      <th>days</th>\n",
       "      <th>lotAreaSQFT</th>\n",
       "    </tr>\n",
       "  </thead>\n",
       "  <tbody>\n",
       "    <tr>\n",
       "      <th>0</th>\n",
       "      <td>28375002</td>\n",
       "      <td>8315 Enchanted Forest Dr, Houston, TX 77088</td>\n",
       "      <td>29.889620</td>\n",
       "      <td>-95.47500</td>\n",
       "      <td>129900.0</td>\n",
       "      <td>https://photos.zillowstatic.com/fp/e6e94b579a3...</td>\n",
       "      <td>3.0</td>\n",
       "      <td>2</td>\n",
       "      <td>0.2617</td>\n",
       "      <td>1969.0</td>\n",
       "      <td>77088</td>\n",
       "      <td>1090</td>\n",
       "      <td>2.29</td>\n",
       "      <td>1</td>\n",
       "      <td>0</td>\n",
       "      <td>1</td>\n",
       "      <td>0</td>\n",
       "      <td>1982.0</td>\n",
       "      <td>1.0</td>\n",
       "      <td>2</td>\n",
       "      <td>995</td>\n",
       "      <td>$300 annually</td>\n",
       "      <td>4.0</td>\n",
       "      <td>0.8</td>\n",
       "      <td>4</td>\n",
       "      <td>0.6</td>\n",
       "      <td>2</td>\n",
       "      <td>5.0</td>\n",
       "      <td>1</td>\n",
       "      <td>107100</td>\n",
       "      <td>2432</td>\n",
       "      <td>11399.652</td>\n",
       "    </tr>\n",
       "    <tr>\n",
       "      <th>1</th>\n",
       "      <td>84026428</td>\n",
       "      <td>415 Remington Bend Ct, Houston, TX 77073</td>\n",
       "      <td>29.971046</td>\n",
       "      <td>-95.41435</td>\n",
       "      <td>250000.0</td>\n",
       "      <td>https://photos.zillowstatic.com/fp/776702db898...</td>\n",
       "      <td>3.0</td>\n",
       "      <td>3</td>\n",
       "      <td>4159.9800</td>\n",
       "      <td>1862.0</td>\n",
       "      <td>77073</td>\n",
       "      <td>1090</td>\n",
       "      <td>2.29</td>\n",
       "      <td>1</td>\n",
       "      <td>0</td>\n",
       "      <td>1</td>\n",
       "      <td>0</td>\n",
       "      <td>2007.0</td>\n",
       "      <td>2.0</td>\n",
       "      <td>2</td>\n",
       "      <td>995</td>\n",
       "      <td>$570 annually</td>\n",
       "      <td>5.0</td>\n",
       "      <td>0.7</td>\n",
       "      <td>2</td>\n",
       "      <td>6.0</td>\n",
       "      <td>1</td>\n",
       "      <td>3.0</td>\n",
       "      <td>0</td>\n",
       "      <td>-13000</td>\n",
       "      <td>49</td>\n",
       "      <td>4159.980</td>\n",
       "    </tr>\n",
       "  </tbody>\n",
       "</table>\n",
       "</div>"
      ],
      "text/plain": [
       "        zid                                      Address        Lat       Lng  \\\n",
       "0  28375002  8315 Enchanted Forest Dr, Houston, TX 77088  29.889620 -95.47500   \n",
       "1  84026428     415 Remington Bend Ct, Houston, TX 77073  29.971046 -95.41435   \n",
       "\n",
       "      Price                                              Image  Bedrooms  \\\n",
       "0  129900.0  https://photos.zillowstatic.com/fp/e6e94b579a3...       3.0   \n",
       "1  250000.0  https://photos.zillowstatic.com/fp/776702db898...       3.0   \n",
       "\n",
       "   Bathrooms    lotArea  constructedArea  zipCode  CountyId  taxRate  \\\n",
       "0          2     0.2617           1969.0    77088      1090     2.29   \n",
       "1          3  4159.9800           1862.0    77073      1090     2.29   \n",
       "\n",
       "   hasGarage  hasPool  hasCooling  hasView  yearBuilt  stories  parkingSpaces  \\\n",
       "0          1        0           1        0     1982.0      1.0              2   \n",
       "1          1        0           1        0     2007.0      2.0              2   \n",
       "\n",
       "   annualHOI      annualHOA  schoolElemRating  schoolElemDist  \\\n",
       "0        995  $300 annually               4.0             0.8   \n",
       "1        995  $570 annually               5.0             0.7   \n",
       "\n",
       "   schoolMidRating  schoolMidDist  schoolHighRating  schoolHighDist  \\\n",
       "0                4            0.6                 2             5.0   \n",
       "1                2            6.0                 1             3.0   \n",
       "\n",
       "   priceIncreased  priceDiff  days  lotAreaSQFT  \n",
       "0               1     107100  2432    11399.652  \n",
       "1               0     -13000    49     4159.980  "
      ]
     },
     "execution_count": 10,
     "metadata": {},
     "output_type": "execute_result"
    }
   ],
   "source": [
    "df.head(2)"
   ]
  },
  {
   "cell_type": "code",
   "execution_count": null,
   "id": "dc5a38bb",
   "metadata": {},
   "outputs": [],
   "source": [
    "# Filter a column by its values\n",
    "#df.loc[df['constructedArea'] == 0] "
   ]
  },
  {
   "cell_type": "markdown",
   "id": "9edbef52",
   "metadata": {},
   "source": [
    "#### Save the clean data"
   ]
  },
  {
   "cell_type": "code",
   "execution_count": 11,
   "id": "cb59b25f",
   "metadata": {},
   "outputs": [],
   "source": [
    "name = latest_file.split(\"data\")[2]\n",
    "out_name = 'cleaned_data'+ name\n",
    "\n",
    "# Create output directory if it does not exist\n",
    "os.makedirs('./data/', exist_ok=True)\n",
    "\n",
    "# Save the merged DF to a csv file\n",
    "df.to_csv(f'./data/{out_name}', index=False)"
   ]
  },
  {
   "cell_type": "code",
   "execution_count": null,
   "id": "616276b0",
   "metadata": {},
   "outputs": [],
   "source": [
    "# Condition the annual HOA column (NEEDS REVIEW)\n",
    "#df['annualHOA']\n",
    "#df['annualHOACleaned'] = df['annualHOA'].str.replace('annually|\\$|\\,', '')\n",
    "\n",
    "#df['match'] = df[\"annualHOACleaned\"].str.count('monthly', re.I)\n",
    "#df['annualHOACleaned'] = df['annualHOACleaned'].str.replace('monthly', '')\n",
    "#df['annualHOACleaned'] = df['annualHOACleaned'].fillna(0)\n",
    "#df['annalHOACleaned'] = df['annualHOACleaned'].astype('int')\n",
    "#df['annualHOACleaned']\n",
    "\n",
    "#df['match']\n",
    "\n",
    "#df['annualHOACleaned'].apply(lambda x: x/12 if df['match'] == 1 else x)\n",
    "#df['annualHOACleaned'] = df['annualHOACleaned'].fillna(0)\n",
    "\n",
    "\n",
    "#df['annualHOACleaned'].apply(lambda x: x/12)\n",
    "#df['annualHOACleaned'].apply(lambda x: x/12 if df['match'] == 1.0 else x)\n",
    "#df['annualHOACleaned'] = df['annualHOACleaned'].fillna(0)"
   ]
  }
 ],
 "metadata": {
  "kernelspec": {
   "display_name": "PythonData",
   "language": "python",
   "name": "pythondata"
  },
  "language_info": {
   "codemirror_mode": {
    "name": "ipython",
    "version": 3
   },
   "file_extension": ".py",
   "mimetype": "text/x-python",
   "name": "python",
   "nbconvert_exporter": "python",
   "pygments_lexer": "ipython3",
   "version": "3.9.12"
  }
 },
 "nbformat": 4,
 "nbformat_minor": 5
}
