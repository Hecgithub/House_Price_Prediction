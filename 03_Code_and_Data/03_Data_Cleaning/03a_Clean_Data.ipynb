{
 "cells": [
  {
   "cell_type": "markdown",
   "id": "e83ab078",
   "metadata": {},
   "source": [
    "# Final Project: House Price Prediction\n",
    "## Corpus Christi Team\n",
    "### Step 3a (Clean the Data)"
   ]
  },
  {
   "cell_type": "markdown",
   "id": "9a8fda47",
   "metadata": {},
   "source": [
    "#### Import requested libraries"
   ]
  },
  {
   "cell_type": "code",
   "execution_count": 1,
   "id": "d0106b8c",
   "metadata": {},
   "outputs": [],
   "source": [
    "import pandas as pd\n",
    "import warnings\n",
    "import glob\n",
    "import os\n",
    "import time\n",
    "from time import sleep\n",
    "from tqdm import tqdm\n",
    "import re\n",
    "\n",
    "warnings.filterwarnings('ignore')\n",
    "pd.set_option('display.max_columns', None)"
   ]
  },
  {
   "cell_type": "markdown",
   "id": "053504b9",
   "metadata": {},
   "source": [
    "#### Input Data"
   ]
  },
  {
   "cell_type": "code",
   "execution_count": 2,
   "id": "1a926af3",
   "metadata": {},
   "outputs": [
    {
     "name": "stdout",
     "output_type": "stream",
     "text": [
      "The file selected is: ../02_Merge_Data/data\\data_Houston_TX_Houses_merged_2023_1_8_12_2.csv\n"
     ]
    }
   ],
   "source": [
    "# Load the input data (only the most recent file)\n",
    "in_path = \"../02_Merge_Data/data/*.csv\"\n",
    "listing = glob.glob(in_path)\n",
    "latest_file = max(listing, key=os.path.getctime)\n",
    "print(f'The file selected is: {latest_file}')"
   ]
  },
  {
   "cell_type": "markdown",
   "id": "9b31c669",
   "metadata": {},
   "source": [
    "#### Load the csv file as a DF"
   ]
  },
  {
   "cell_type": "code",
   "execution_count": 3,
   "id": "d7279bdc",
   "metadata": {},
   "outputs": [
    {
     "name": "stdout",
     "output_type": "stream",
     "text": [
      "rows x cols: 4501 x 36 (raw input data)\n"
     ]
    }
   ],
   "source": [
    "df_raw = pd.read_csv(latest_file)\n",
    "numRows = len(df_raw)\n",
    "numCols = len(df_raw.columns)\n",
    "print(f'rows x cols: {numRows} x {numCols} (raw input data)')"
   ]
  },
  {
   "cell_type": "markdown",
   "id": "0aa42989",
   "metadata": {},
   "source": [
    "#### Clean the DF"
   ]
  },
  {
   "cell_type": "code",
   "execution_count": 4,
   "id": "62975ffd",
   "metadata": {},
   "outputs": [
    {
     "data": {
      "text/plain": [
       "0"
      ]
     },
     "execution_count": 4,
     "metadata": {},
     "output_type": "execute_result"
    }
   ],
   "source": [
    "# Check for duplicated traces (there should be none as they were removed in the previous step)\n",
    "df = df_raw.copy()\n",
    "df['zid'].duplicated().sum()"
   ]
  },
  {
   "cell_type": "code",
   "execution_count": 5,
   "id": "f4222352",
   "metadata": {},
   "outputs": [
    {
     "name": "stdout",
     "output_type": "stream",
     "text": [
      "rows x cols: 4501 x 35 (removed empty columns)\n"
     ]
    }
   ],
   "source": [
    "# Remove columns where all values are NaN:\n",
    "df = df.dropna(axis=1, how='all')\n",
    "numRows = len(df)\n",
    "numCols = len(df.columns)\n",
    "print(f'rows x cols: {numRows} x {numCols} (removed empty columns)')"
   ]
  },
  {
   "cell_type": "code",
   "execution_count": 6,
   "id": "43393bbb",
   "metadata": {},
   "outputs": [
    {
     "name": "stdout",
     "output_type": "stream",
     "text": [
      "rows x cols: 4501 x 33 (removed single value columns)\n"
     ]
    }
   ],
   "source": [
    "# Remove columns with a single unique value\n",
    "df.drop(columns=df.columns[df.nunique()==1], inplace=True)\n",
    "numRows = len(df)\n",
    "numCols = len(df.columns)\n",
    "print(f'rows x cols: {numRows} x {numCols} (removed single value columns)')"
   ]
  },
  {
   "cell_type": "code",
   "execution_count": 7,
   "id": "78fc2d40",
   "metadata": {},
   "outputs": [
    {
     "name": "stdout",
     "output_type": "stream",
     "text": [
      "rows x cols: 4501 x 31 (removed unnecessary columns)\n"
     ]
    }
   ],
   "source": [
    "# Remove unnecessary columns:\n",
    "df = df.drop(['Page', 'Item'], axis=1)\n",
    "numRows = len(df)\n",
    "numCols = len(df.columns)\n",
    "print(f'rows x cols: {numRows} x {numCols} (removed unnecessary columns)')"
   ]
  },
  {
   "cell_type": "markdown",
   "id": "16eb3c79",
   "metadata": {},
   "source": [
    "#### Save the cleaned raw data"
   ]
  },
  {
   "cell_type": "code",
   "execution_count": 8,
   "id": "9bb31827",
   "metadata": {},
   "outputs": [],
   "source": [
    "# At this point, the data is considered as cleaned raw.\n",
    "\n",
    "# Create output directory if it does not exist\n",
    "os.makedirs('./data/', exist_ok=True)\n",
    "\n",
    "# For the output file name, just append a prefix using the input file name\n",
    "in_name = latest_file.split(\"data\")[2]\n",
    "\n",
    "ou_path = './data/'\n",
    "ou_name = '03a_raw_data'+ in_name \n",
    "\n",
    "# Save the merged DF to a csv file\n",
    "df.to_csv(f'{ou_path}{ou_name}', index=False)"
   ]
  },
  {
   "cell_type": "markdown",
   "id": "fad3a855",
   "metadata": {},
   "source": [
    "#### Continue with the data pre-processing"
   ]
  },
  {
   "cell_type": "code",
   "execution_count": 9,
   "id": "33a928b0",
   "metadata": {},
   "outputs": [],
   "source": [
    "# Convert lotArea in Acres to sqft using formula: sqft = Acres x 43560\n",
    "df['lotAreaSQFT'] = df['lotArea'].apply(lambda x: x*43560 if x <= 100 else x)"
   ]
  },
  {
   "cell_type": "markdown",
   "id": "9edbef52",
   "metadata": {},
   "source": [
    "#### Save the clean data"
   ]
  },
  {
   "cell_type": "code",
   "execution_count": 10,
   "id": "cb59b25f",
   "metadata": {},
   "outputs": [],
   "source": [
    "name = latest_file.split(\"data\")[2]\n",
    "out_name = '03a_cleaned_data'+ name\n",
    "\n",
    "# Create output directory if it does not exist\n",
    "os.makedirs('./data/', exist_ok=True)\n",
    "\n",
    "# Save the merged DF to a csv file\n",
    "df.to_csv(f'./data/{out_name}', index=False)"
   ]
  },
  {
   "cell_type": "code",
   "execution_count": 11,
   "id": "ea11788b",
   "metadata": {},
   "outputs": [
    {
     "data": {
      "text/html": [
       "<div>\n",
       "<style scoped>\n",
       "    .dataframe tbody tr th:only-of-type {\n",
       "        vertical-align: middle;\n",
       "    }\n",
       "\n",
       "    .dataframe tbody tr th {\n",
       "        vertical-align: top;\n",
       "    }\n",
       "\n",
       "    .dataframe thead th {\n",
       "        text-align: right;\n",
       "    }\n",
       "</style>\n",
       "<table border=\"1\" class=\"dataframe\">\n",
       "  <thead>\n",
       "    <tr style=\"text-align: right;\">\n",
       "      <th></th>\n",
       "      <th>zid</th>\n",
       "      <th>Address</th>\n",
       "      <th>Lat</th>\n",
       "      <th>Lng</th>\n",
       "      <th>Price</th>\n",
       "      <th>Image</th>\n",
       "      <th>Bedrooms</th>\n",
       "      <th>Bathrooms</th>\n",
       "      <th>lotArea</th>\n",
       "      <th>constructedArea</th>\n",
       "      <th>zipCode</th>\n",
       "      <th>CountyId</th>\n",
       "      <th>taxRate</th>\n",
       "      <th>hasGarage</th>\n",
       "      <th>hasPool</th>\n",
       "      <th>hasCooling</th>\n",
       "      <th>hasView</th>\n",
       "      <th>yearBuilt</th>\n",
       "      <th>stories</th>\n",
       "      <th>parkingSpaces</th>\n",
       "      <th>annualHOI</th>\n",
       "      <th>annualHOA</th>\n",
       "      <th>schoolElemRating</th>\n",
       "      <th>schoolElemDist</th>\n",
       "      <th>schoolMidRating</th>\n",
       "      <th>schoolMidDist</th>\n",
       "      <th>schoolHighRating</th>\n",
       "      <th>schoolHighDist</th>\n",
       "      <th>priceIncreased</th>\n",
       "      <th>priceDiff</th>\n",
       "      <th>days</th>\n",
       "      <th>lotAreaSQFT</th>\n",
       "    </tr>\n",
       "  </thead>\n",
       "  <tbody>\n",
       "    <tr>\n",
       "      <th>0</th>\n",
       "      <td>27541924</td>\n",
       "      <td>6602 Indian Lake Dr, Missouri City, TX 77489</td>\n",
       "      <td>29.603600</td>\n",
       "      <td>-95.485405</td>\n",
       "      <td>276000</td>\n",
       "      <td>https://photos.zillowstatic.com/fp/bc5a7196226...</td>\n",
       "      <td>3.0</td>\n",
       "      <td>2</td>\n",
       "      <td>8764.272</td>\n",
       "      <td>3612.0</td>\n",
       "      <td>77489</td>\n",
       "      <td>2698</td>\n",
       "      <td>2.41</td>\n",
       "      <td>1</td>\n",
       "      <td>0</td>\n",
       "      <td>1</td>\n",
       "      <td>0</td>\n",
       "      <td>1971.0</td>\n",
       "      <td>2.0</td>\n",
       "      <td>2</td>\n",
       "      <td>1159</td>\n",
       "      <td>$400 annually</td>\n",
       "      <td>6.0</td>\n",
       "      <td>0.5</td>\n",
       "      <td>3</td>\n",
       "      <td>1.3</td>\n",
       "      <td>2</td>\n",
       "      <td>1.1</td>\n",
       "      <td>1</td>\n",
       "      <td>31000</td>\n",
       "      <td>1213</td>\n",
       "      <td>8764.272</td>\n",
       "    </tr>\n",
       "    <tr>\n",
       "      <th>1</th>\n",
       "      <td>27542111</td>\n",
       "      <td>6727 Castleview Ln, Missouri City, TX 77489</td>\n",
       "      <td>29.600388</td>\n",
       "      <td>-95.488210</td>\n",
       "      <td>220000</td>\n",
       "      <td>https://photos.zillowstatic.com/fp/1336380a837...</td>\n",
       "      <td>3.0</td>\n",
       "      <td>2</td>\n",
       "      <td>7884.360</td>\n",
       "      <td>1270.0</td>\n",
       "      <td>77489</td>\n",
       "      <td>2698</td>\n",
       "      <td>2.41</td>\n",
       "      <td>1</td>\n",
       "      <td>0</td>\n",
       "      <td>1</td>\n",
       "      <td>0</td>\n",
       "      <td>1972.0</td>\n",
       "      <td>1.0</td>\n",
       "      <td>1</td>\n",
       "      <td>924</td>\n",
       "      <td>$144 annually</td>\n",
       "      <td>6.0</td>\n",
       "      <td>0.3</td>\n",
       "      <td>3</td>\n",
       "      <td>1.3</td>\n",
       "      <td>2</td>\n",
       "      <td>1.0</td>\n",
       "      <td>1</td>\n",
       "      <td>65100</td>\n",
       "      <td>503</td>\n",
       "      <td>7884.360</td>\n",
       "    </tr>\n",
       "    <tr>\n",
       "      <th>2</th>\n",
       "      <td>27542455</td>\n",
       "      <td>15902 Ridgerock Rd, Missouri City, TX 77489</td>\n",
       "      <td>29.595436</td>\n",
       "      <td>-95.485880</td>\n",
       "      <td>230000</td>\n",
       "      <td>https://photos.zillowstatic.com/fp/5603ce32232...</td>\n",
       "      <td>4.0</td>\n",
       "      <td>2</td>\n",
       "      <td>7148.196</td>\n",
       "      <td>1765.0</td>\n",
       "      <td>77489</td>\n",
       "      <td>2698</td>\n",
       "      <td>2.41</td>\n",
       "      <td>1</td>\n",
       "      <td>0</td>\n",
       "      <td>1</td>\n",
       "      <td>0</td>\n",
       "      <td>1974.0</td>\n",
       "      <td>1.0</td>\n",
       "      <td>2</td>\n",
       "      <td>966</td>\n",
       "      <td>$250 annually</td>\n",
       "      <td>6.0</td>\n",
       "      <td>0.3</td>\n",
       "      <td>3</td>\n",
       "      <td>1.0</td>\n",
       "      <td>2</td>\n",
       "      <td>0.6</td>\n",
       "      <td>1</td>\n",
       "      <td>115275</td>\n",
       "      <td>5140</td>\n",
       "      <td>7148.196</td>\n",
       "    </tr>\n",
       "  </tbody>\n",
       "</table>\n",
       "</div>"
      ],
      "text/plain": [
       "        zid                                       Address        Lat  \\\n",
       "0  27541924  6602 Indian Lake Dr, Missouri City, TX 77489  29.603600   \n",
       "1  27542111   6727 Castleview Ln, Missouri City, TX 77489  29.600388   \n",
       "2  27542455   15902 Ridgerock Rd, Missouri City, TX 77489  29.595436   \n",
       "\n",
       "         Lng   Price                                              Image  \\\n",
       "0 -95.485405  276000  https://photos.zillowstatic.com/fp/bc5a7196226...   \n",
       "1 -95.488210  220000  https://photos.zillowstatic.com/fp/1336380a837...   \n",
       "2 -95.485880  230000  https://photos.zillowstatic.com/fp/5603ce32232...   \n",
       "\n",
       "   Bedrooms  Bathrooms   lotArea  constructedArea  zipCode  CountyId  taxRate  \\\n",
       "0       3.0          2  8764.272           3612.0    77489      2698     2.41   \n",
       "1       3.0          2  7884.360           1270.0    77489      2698     2.41   \n",
       "2       4.0          2  7148.196           1765.0    77489      2698     2.41   \n",
       "\n",
       "   hasGarage  hasPool  hasCooling  hasView  yearBuilt  stories  parkingSpaces  \\\n",
       "0          1        0           1        0     1971.0      2.0              2   \n",
       "1          1        0           1        0     1972.0      1.0              1   \n",
       "2          1        0           1        0     1974.0      1.0              2   \n",
       "\n",
       "   annualHOI      annualHOA  schoolElemRating  schoolElemDist  \\\n",
       "0       1159  $400 annually               6.0             0.5   \n",
       "1        924  $144 annually               6.0             0.3   \n",
       "2        966  $250 annually               6.0             0.3   \n",
       "\n",
       "   schoolMidRating  schoolMidDist  schoolHighRating  schoolHighDist  \\\n",
       "0                3            1.3                 2             1.1   \n",
       "1                3            1.3                 2             1.0   \n",
       "2                3            1.0                 2             0.6   \n",
       "\n",
       "   priceIncreased  priceDiff  days  lotAreaSQFT  \n",
       "0               1      31000  1213     8764.272  \n",
       "1               1      65100   503     7884.360  \n",
       "2               1     115275  5140     7148.196  "
      ]
     },
     "execution_count": 11,
     "metadata": {},
     "output_type": "execute_result"
    }
   ],
   "source": [
    "# Read the output file to check it was saved correctly \n",
    "df_4check = pd.read_csv('./data/'+ out_name)\n",
    "df_4check.head(3)"
   ]
  }
 ],
 "metadata": {
  "kernelspec": {
   "display_name": "PythonData",
   "language": "python",
   "name": "pythondata"
  },
  "language_info": {
   "codemirror_mode": {
    "name": "ipython",
    "version": 3
   },
   "file_extension": ".py",
   "mimetype": "text/x-python",
   "name": "python",
   "nbconvert_exporter": "python",
   "pygments_lexer": "ipython3",
   "version": "3.9.12"
  }
 },
 "nbformat": 4,
 "nbformat_minor": 5
}
