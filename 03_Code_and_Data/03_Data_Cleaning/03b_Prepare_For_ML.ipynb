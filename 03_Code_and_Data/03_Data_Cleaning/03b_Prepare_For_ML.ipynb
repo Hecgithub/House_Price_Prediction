{
 "cells": [
  {
   "cell_type": "code",
   "execution_count": null,
   "id": "584b15a7",
   "metadata": {},
   "outputs": [],
   "source": [
    "# Final Project: House Price Prediction\n",
    "## Corpus Christi Team\n",
    "### Step 3b (Prepare the data for visualization and for machine learning)"
   ]
  },
  {
   "cell_type": "markdown",
   "id": "457333f2",
   "metadata": {},
   "source": [
    "Remove unnecessary columns for ML, replace empty or invalid cells,\n",
    "assign data types, encode, etc."
   ]
  },
  {
   "cell_type": "markdown",
   "id": "110e07dc",
   "metadata": {},
   "source": [
    "#### Import requested libraries"
   ]
  },
  {
   "cell_type": "code",
   "execution_count": 1,
   "id": "a35f4006",
   "metadata": {},
   "outputs": [],
   "source": [
    "import pandas as pd\n",
    "import requests\n",
    "import json\n",
    "import re\n",
    "import os\n",
    "import glob\n",
    "from datetime import datetime as dt\n",
    "import warnings\n",
    "from time import sleep\n",
    "from tqdm import tqdm\n",
    "\n",
    "warnings.filterwarnings('ignore')\n",
    "pd.set_option('display.max_columns', None)\n",
    "\n",
    "# Import your RapidAPI key\n",
    "from config import krapid as key"
   ]
  },
  {
   "cell_type": "markdown",
   "id": "80d16c7d",
   "metadata": {},
   "source": [
    "#### Read the input data"
   ]
  },
  {
   "cell_type": "code",
   "execution_count": 2,
   "id": "b01b61c2",
   "metadata": {},
   "outputs": [
    {
     "name": "stdout",
     "output_type": "stream",
     "text": [
      "The file selected is: ./data\\03a_cleaned_data_Houston_TX_Houses_merged_2023_1_8_12_2.csv\n"
     ]
    }
   ],
   "source": [
    "# Load the input data (only the most recent file)\n",
    "in_path = \"./data/*.csv\"\n",
    "listing = glob.glob(in_path)\n",
    "latest_file = max(listing, key=os.path.getctime)\n",
    "print(f'The file selected is: {latest_file}')"
   ]
  },
  {
   "cell_type": "code",
   "execution_count": 3,
   "id": "51adb4eb",
   "metadata": {},
   "outputs": [],
   "source": [
    "# Create the input DF\n",
    "df_raw = pd.read_csv(latest_file)"
   ]
  },
  {
   "cell_type": "markdown",
   "id": "e492daa0",
   "metadata": {},
   "source": [
    "#### Do some data pre-processing"
   ]
  },
  {
   "cell_type": "code",
   "execution_count": 4,
   "id": "857b8933",
   "metadata": {},
   "outputs": [],
   "source": [
    "df = df_raw.copy()\n",
    "\n",
    "# Convert lotArea in Acres to sqft using formula: sqft = Acres x 43560\n",
    "df['lotAreaSQFT'] = df['lotArea'].apply(lambda x: x*43560 if x <= 100 else x)"
   ]
  },
  {
   "cell_type": "code",
   "execution_count": 5,
   "id": "a6ed68ac",
   "metadata": {},
   "outputs": [],
   "source": [
    "# Reaplce all null values by the average of the column values\n",
    "df = df.fillna(df.mean())"
   ]
  },
  {
   "cell_type": "code",
   "execution_count": 6,
   "id": "18f4b82e",
   "metadata": {},
   "outputs": [
    {
     "name": "stdout",
     "output_type": "stream",
     "text": [
      "<class 'pandas.core.frame.DataFrame'>\n",
      "Int64Index: 4500 entries, 0 to 4500\n",
      "Data columns (total 34 columns):\n",
      " #   Column            Non-Null Count  Dtype  \n",
      "---  ------            --------------  -----  \n",
      " 0   zid               4500 non-null   int64  \n",
      " 1   Address           4500 non-null   object \n",
      " 2   Lat               4500 non-null   float64\n",
      " 3   Lng               4500 non-null   float64\n",
      " 4   Price             4500 non-null   int64  \n",
      " 5   Image             4500 non-null   object \n",
      " 6   Bedrooms          4500 non-null   float64\n",
      " 7   Bathrooms         4500 non-null   int64  \n",
      " 8   lotArea           4500 non-null   float64\n",
      " 9   constructedArea   4500 non-null   float64\n",
      " 10  zipCode           4500 non-null   int64  \n",
      " 11  CountyId          4500 non-null   int64  \n",
      " 12  taxRate           4500 non-null   float64\n",
      " 13  hasGarage         4500 non-null   int64  \n",
      " 14  hasPool           4500 non-null   int64  \n",
      " 15  hasCooling        4500 non-null   int64  \n",
      " 16  hasView           4500 non-null   int64  \n",
      " 17  yearBuilt         4500 non-null   float64\n",
      " 18  stories           4500 non-null   float64\n",
      " 19  parkingSpaces     4500 non-null   int64  \n",
      " 20  annualHOI         4500 non-null   int64  \n",
      " 21  annualHOA         2541 non-null   object \n",
      " 22  schoolElemRating  4500 non-null   float64\n",
      " 23  schoolElemDist    4500 non-null   float64\n",
      " 24  schoolMidRating   4500 non-null   int64  \n",
      " 25  schoolMidDist     4500 non-null   float64\n",
      " 26  schoolHighRating  4500 non-null   int64  \n",
      " 27  schoolHighDist    4500 non-null   float64\n",
      " 28  priceIncreased    4500 non-null   int64  \n",
      " 29  priceDiff         4500 non-null   int64  \n",
      " 30  days              4500 non-null   int64  \n",
      " 31  lotAreaSQFT       4500 non-null   float64\n",
      " 32  avgSchoolRating   4500 non-null   float64\n",
      " 33  avgSchoolDist     4500 non-null   float64\n",
      "dtypes: float64(15), int64(16), object(3)\n",
      "memory usage: 1.2+ MB\n"
     ]
    }
   ],
   "source": [
    "# Remove outlier price:\n",
    "df = df[df['Price'] >= 200000] \n",
    "\n",
    "# Average the school rates and distances\n",
    "df['avgSchoolRating'] = df[['schoolElemRating', 'schoolMidRating', 'schoolHighRating']].mean(axis=1)\n",
    "df['avgSchoolDist'] = df[['schoolElemDist', 'schoolMidDist', 'schoolHighDist']].mean(axis=1)\n",
    "\n",
    "# Check for null values\n",
    "df.info()"
   ]
  },
  {
   "cell_type": "markdown",
   "id": "c537e187",
   "metadata": {},
   "source": [
    "#### Save the pre-processed data (this can be used for data viz)"
   ]
  },
  {
   "cell_type": "code",
   "execution_count": 7,
   "id": "31f48b7b",
   "metadata": {},
   "outputs": [],
   "source": [
    "name = latest_file.split(\"data\")[2]\n",
    "ou_name = '03b_preprocessed_data'+ name\n",
    "\n",
    "# Create output directory if it does not exist\n",
    "ou_path = './data/'\n",
    "os.makedirs(ou_path, exist_ok=True)\n",
    "\n",
    "# Save to a csv file\n",
    "df.to_csv(f'{ou_path}{ou_name}', index=False)"
   ]
  },
  {
   "cell_type": "markdown",
   "id": "b7f611c4",
   "metadata": {},
   "source": [
    "#### Do some basic pre-conditioning for ML"
   ]
  },
  {
   "cell_type": "code",
   "execution_count": 8,
   "id": "b847d24d",
   "metadata": {},
   "outputs": [
    {
     "name": "stdout",
     "output_type": "stream",
     "text": [
      "<class 'pandas.core.frame.DataFrame'>\n",
      "Int64Index: 4500 entries, 0 to 4500\n",
      "Data columns (total 28 columns):\n",
      " #   Column            Non-Null Count  Dtype  \n",
      "---  ------            --------------  -----  \n",
      " 0   Lat               4500 non-null   float64\n",
      " 1   Lng               4500 non-null   float64\n",
      " 2   Price             4500 non-null   int64  \n",
      " 3   Bedrooms          4500 non-null   float64\n",
      " 4   Bathrooms         4500 non-null   int64  \n",
      " 5   constructedArea   4500 non-null   float64\n",
      " 6   zipCode           4500 non-null   int64  \n",
      " 7   CountyId          4500 non-null   int64  \n",
      " 8   taxRate           4500 non-null   float64\n",
      " 9   hasGarage         4500 non-null   int64  \n",
      " 10  hasPool           4500 non-null   int64  \n",
      " 11  hasCooling        4500 non-null   int64  \n",
      " 12  hasView           4500 non-null   int64  \n",
      " 13  yearBuilt         4500 non-null   float64\n",
      " 14  stories           4500 non-null   float64\n",
      " 15  parkingSpaces     4500 non-null   int64  \n",
      " 16  schoolElemRating  4500 non-null   float64\n",
      " 17  schoolElemDist    4500 non-null   float64\n",
      " 18  schoolMidRating   4500 non-null   int64  \n",
      " 19  schoolMidDist     4500 non-null   float64\n",
      " 20  schoolHighRating  4500 non-null   int64  \n",
      " 21  schoolHighDist    4500 non-null   float64\n",
      " 22  priceIncreased    4500 non-null   int64  \n",
      " 23  priceDiff         4500 non-null   int64  \n",
      " 24  days              4500 non-null   int64  \n",
      " 25  lotAreaSQFT       4500 non-null   float64\n",
      " 26  avgSchoolRating   4500 non-null   float64\n",
      " 27  avgSchoolDist     4500 non-null   float64\n",
      "dtypes: float64(14), int64(14)\n",
      "memory usage: 1019.5 KB\n"
     ]
    }
   ],
   "source": [
    "# Drop unnecessary columns for ML\n",
    "df = df.drop(['zid', 'Address', 'lotArea', 'Image', 'annualHOA', 'annualHOI'], axis=1)\n",
    "\n",
    "# Check for null values\n",
    "df.info()\n"
   ]
  },
  {
   "cell_type": "markdown",
   "id": "6fdbc997",
   "metadata": {},
   "source": [
    "#### Save the data conditioned for ML"
   ]
  },
  {
   "cell_type": "code",
   "execution_count": 9,
   "id": "e3b118a4",
   "metadata": {},
   "outputs": [],
   "source": [
    "name = latest_file.split(\"data\")[2]\n",
    "ou_name = '03b_preprocessed4ML_data'+ name\n",
    "\n",
    "# Create output directory if it does not exist\n",
    "ou_path = './data/'\n",
    "os.makedirs(ou_path, exist_ok=True)\n",
    "\n",
    "# Save to a csv file\n",
    "df.to_csv(f'{ou_path}{ou_name}', index=False)"
   ]
  },
  {
   "cell_type": "code",
   "execution_count": null,
   "id": "5d36394b",
   "metadata": {},
   "outputs": [],
   "source": []
  }
 ],
 "metadata": {
  "kernelspec": {
   "display_name": "PythonData",
   "language": "python",
   "name": "pythondata"
  },
  "language_info": {
   "codemirror_mode": {
    "name": "ipython",
    "version": 3
   },
   "file_extension": ".py",
   "mimetype": "text/x-python",
   "name": "python",
   "nbconvert_exporter": "python",
   "pygments_lexer": "ipython3",
   "version": "3.9.12"
  }
 },
 "nbformat": 4,
 "nbformat_minor": 5
}
