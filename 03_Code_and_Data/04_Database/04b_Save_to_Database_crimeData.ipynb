{
 "cells": [
  {
   "cell_type": "markdown",
   "id": "2c2f454e",
   "metadata": {},
   "source": [
    "# Final Project: House Price Prediction\n",
    "## Corpus Christi Team\n",
    "### Step 4b (Save crime data to the PostgreSQL Data Base)"
   ]
  },
  {
   "cell_type": "code",
   "execution_count": 1,
   "id": "431abaa1",
   "metadata": {},
   "outputs": [],
   "source": [
    "# Import libraries\n",
    "import psycopg2\n",
    "import psycopg2.extras\n",
    "import time\n",
    "import re\n",
    "import os\n",
    "import glob\n",
    "import csv\n",
    "import pandas as pd\n",
    "import math\n",
    "import warnings\n",
    "warnings.filterwarnings('ignore')\n",
    "pd.set_option('display.max_columns', None)\n",
    "\n",
    "from config import db as dbpwd"
   ]
  },
  {
   "cell_type": "code",
   "execution_count": 2,
   "id": "b1c58f81",
   "metadata": {},
   "outputs": [],
   "source": [
    "# Data base connection details\n",
    "hostname = 'localhost'\n",
    "database = 'real_estate_data_test'\n",
    "username = 'postgres'\n",
    "pwd = dbpwd\n",
    "port_id = 5432\n",
    "conn = None\n",
    "cur = None"
   ]
  },
  {
   "cell_type": "code",
   "execution_count": 3,
   "id": "f5d0cea1",
   "metadata": {},
   "outputs": [
    {
     "name": "stdout",
     "output_type": "stream",
     "text": [
      "The input file is ../01_Gathering/data\\Houston_TX_Crime_Stats_per_ZipCode_2022.csv\n",
      "The input file will be saved to the db as a table named: htx_crime_stats_per_zipcode_2022\n"
     ]
    }
   ],
   "source": [
    "# Define the input data path and input file name\n",
    "data_path = \"../01_Gathering/data/*.csv\"\n",
    "listing = glob.glob(data_path)\n",
    "\n",
    "for file in listing:\n",
    "    if 'Houston_TX_Crime_Stats_per_ZipCode' in file:\n",
    "        input_file = file\n",
    "        print(f'The input file is {file}')\n",
    "\n",
    "# Define the table name to be saved in the DB\n",
    "regex = \"(Crime.+).csv\"\n",
    "match = re.findall(rf\"{regex}\", input_file)\n",
    "name = ''.join(match)\n",
    "table_name = 'htx_' + name.lower()\n",
    "print(f'The input file will be saved to the db as a table named: {table_name}')"
   ]
  },
  {
   "cell_type": "code",
   "execution_count": 4,
   "id": "804d9806",
   "metadata": {},
   "outputs": [
    {
     "data": {
      "text/html": [
       "<div>\n",
       "<style scoped>\n",
       "    .dataframe tbody tr th:only-of-type {\n",
       "        vertical-align: middle;\n",
       "    }\n",
       "\n",
       "    .dataframe tbody tr th {\n",
       "        vertical-align: top;\n",
       "    }\n",
       "\n",
       "    .dataframe thead th {\n",
       "        text-align: right;\n",
       "    }\n",
       "</style>\n",
       "<table border=\"1\" class=\"dataframe\">\n",
       "  <thead>\n",
       "    <tr style=\"text-align: right;\">\n",
       "      <th></th>\n",
       "      <th>zip</th>\n",
       "      <th>crimeCount</th>\n",
       "      <th>crimePercentage</th>\n",
       "    </tr>\n",
       "  </thead>\n",
       "  <tbody>\n",
       "    <tr>\n",
       "      <th>0</th>\n",
       "      <td>77002</td>\n",
       "      <td>5300</td>\n",
       "      <td>2.306705</td>\n",
       "    </tr>\n",
       "    <tr>\n",
       "      <th>1</th>\n",
       "      <td>77003</td>\n",
       "      <td>2597</td>\n",
       "      <td>1.130285</td>\n",
       "    </tr>\n",
       "    <tr>\n",
       "      <th>2</th>\n",
       "      <td>77004</td>\n",
       "      <td>5647</td>\n",
       "      <td>2.457729</td>\n",
       "    </tr>\n",
       "  </tbody>\n",
       "</table>\n",
       "</div>"
      ],
      "text/plain": [
       "     zip  crimeCount  crimePercentage\n",
       "0  77002        5300         2.306705\n",
       "1  77003        2597         1.130285\n",
       "2  77004        5647         2.457729"
      ]
     },
     "execution_count": 4,
     "metadata": {},
     "output_type": "execute_result"
    }
   ],
   "source": [
    "# Convert the input data to a pandas DF for QC\n",
    "df = pd.read_csv(input_file)\n",
    "df.head(3)"
   ]
  },
  {
   "cell_type": "markdown",
   "id": "a781a3d5",
   "metadata": {},
   "source": [
    "#### Save the table to the DB"
   ]
  },
  {
   "cell_type": "code",
   "execution_count": 5,
   "id": "fdfa837c",
   "metadata": {},
   "outputs": [
    {
     "name": "stdout",
     "output_type": "stream",
     "text": [
      "Table htx_crime_stats_per_zipcode_2022 was succesfully saved to the db real_estate_data_test\n"
     ]
    }
   ],
   "source": [
    "try:\n",
    "    #connect to the database\n",
    "    conn = psycopg2.connect(host=hostname,\n",
    "                           dbname=database,\n",
    "                           user=username,\n",
    "                           password=pwd,\n",
    "                           port=port_id)  \n",
    "\n",
    "    #create a cursor object: it is used to interact with the database\n",
    "    cur = conn.cursor()\n",
    "    \n",
    "    # Remove the table only if iti exists\n",
    "    cur.execute('DROP TABLE IF EXISTS {}'.format(table_name))\n",
    "\n",
    "    #create a DB table with same headers as csv file\n",
    "    create_script = '''CREATE TABLE IF NOT EXISTS {} (\n",
    "    zipCode INT PRIMARY KEY,\n",
    "    crimeCount INT,\n",
    "    crimePercentage FLOAT)'''.format(table_name)\n",
    "    \n",
    "    # Execute and commit the changes\n",
    "    cur.execute(create_script)\n",
    "    \n",
    "    # Insert Data into the DB table\n",
    "    insert_script = '''INSERT INTO {} (\n",
    "    zipCode,\n",
    "    crimeCount,\n",
    "    crimePercentage)\n",
    "    VALUES (%s, %s, %s)'''.format(table_name)\n",
    "    \n",
    "    with open(input_file, 'r') as csvfile:\n",
    "        dataReader = csv.reader(csvfile)\n",
    "        next(dataReader)\n",
    "        for row in dataReader:\n",
    "            zipCode = row[0]\n",
    "            crimeCount = row[1]\n",
    "            crimePercentage = row[2]\n",
    "\n",
    "            values = [zipCode, crimeCount, crimePercentage]\n",
    "        \n",
    "            cur.execute(insert_script, values)\n",
    "    \n",
    "    conn.commit()\n",
    "\n",
    "except Exception as error:\n",
    "    print(error)\n",
    "finally:\n",
    "    if cur is not None:\n",
    "        cur.close()\n",
    "    if conn is not None:\n",
    "        conn.close()\n",
    "        print(f'Table {table_name} was succesfully saved to the db {database}')"
   ]
  },
  {
   "cell_type": "markdown",
   "id": "12d113c1",
   "metadata": {},
   "source": [
    "#### Read the table from the DB"
   ]
  },
  {
   "cell_type": "code",
   "execution_count": 6,
   "id": "f5302f7c",
   "metadata": {},
   "outputs": [
    {
     "data": {
      "text/html": [
       "<div>\n",
       "<style scoped>\n",
       "    .dataframe tbody tr th:only-of-type {\n",
       "        vertical-align: middle;\n",
       "    }\n",
       "\n",
       "    .dataframe tbody tr th {\n",
       "        vertical-align: top;\n",
       "    }\n",
       "\n",
       "    .dataframe thead th {\n",
       "        text-align: right;\n",
       "    }\n",
       "</style>\n",
       "<table border=\"1\" class=\"dataframe\">\n",
       "  <thead>\n",
       "    <tr style=\"text-align: right;\">\n",
       "      <th></th>\n",
       "      <th>zipcode</th>\n",
       "      <th>crimecount</th>\n",
       "      <th>crimepercentage</th>\n",
       "    </tr>\n",
       "  </thead>\n",
       "  <tbody>\n",
       "    <tr>\n",
       "      <th>0</th>\n",
       "      <td>77002</td>\n",
       "      <td>5300</td>\n",
       "      <td>2.306705</td>\n",
       "    </tr>\n",
       "    <tr>\n",
       "      <th>1</th>\n",
       "      <td>77003</td>\n",
       "      <td>2597</td>\n",
       "      <td>1.130285</td>\n",
       "    </tr>\n",
       "    <tr>\n",
       "      <th>2</th>\n",
       "      <td>77004</td>\n",
       "      <td>5647</td>\n",
       "      <td>2.457729</td>\n",
       "    </tr>\n",
       "  </tbody>\n",
       "</table>\n",
       "</div>"
      ],
      "text/plain": [
       "   zipcode  crimecount  crimepercentage\n",
       "0    77002        5300         2.306705\n",
       "1    77003        2597         1.130285\n",
       "2    77004        5647         2.457729"
      ]
     },
     "execution_count": 6,
     "metadata": {},
     "output_type": "execute_result"
    }
   ],
   "source": [
    "with psycopg2.connect(\"host='{}' port={} dbname='{}' user={} password={}\".format(hostname, port_id, database, username, pwd)) as conn:\n",
    "    sql = \"select * from {};\".format(table_name)\n",
    "    db2df = pd.read_sql_query(sql, conn)\n",
    "\n",
    "db2df.head(3)"
   ]
  },
  {
   "cell_type": "code",
   "execution_count": null,
   "id": "20be9ffa",
   "metadata": {},
   "outputs": [],
   "source": []
  }
 ],
 "metadata": {
  "kernelspec": {
   "display_name": "PythonData",
   "language": "python",
   "name": "pythondata"
  },
  "language_info": {
   "codemirror_mode": {
    "name": "ipython",
    "version": 3
   },
   "file_extension": ".py",
   "mimetype": "text/x-python",
   "name": "python",
   "nbconvert_exporter": "python",
   "pygments_lexer": "ipython3",
   "version": "3.9.12"
  }
 },
 "nbformat": 4,
 "nbformat_minor": 5
}
