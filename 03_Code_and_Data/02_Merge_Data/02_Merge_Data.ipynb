{
 "cells": [
  {
   "cell_type": "markdown",
   "id": "9e409537",
   "metadata": {},
   "source": [
    "# Final Project: House Price Prediction\n",
    "## Corpus Christi Team\n",
    "### Step 2 (Merge the Data)"
   ]
  },
  {
   "cell_type": "markdown",
   "id": "9a8fda47",
   "metadata": {},
   "source": [
    "#### Import requested libraries"
   ]
  },
  {
   "cell_type": "code",
   "execution_count": 25,
   "id": "d0106b8c",
   "metadata": {},
   "outputs": [],
   "source": [
    "import pandas as pd\n",
    "import warnings\n",
    "import glob\n",
    "import os\n",
    "import time\n",
    "from time import sleep\n",
    "from tqdm import tqdm\n",
    "\n",
    "warnings.filterwarnings('ignore')\n",
    "pd.set_option('display.max_columns', None)"
   ]
  },
  {
   "cell_type": "markdown",
   "id": "053504b9",
   "metadata": {},
   "source": [
    "#### Input Data"
   ]
  },
  {
   "cell_type": "code",
   "execution_count": 26,
   "id": "1a926af3",
   "metadata": {},
   "outputs": [],
   "source": [
    "data_path = \"../01_Get_Data_w_Property_Details/data/*.csv\"\n",
    "listing = glob.glob(data_path)"
   ]
  },
  {
   "cell_type": "markdown",
   "id": "43b1a4eb",
   "metadata": {},
   "source": [
    "#### Define Search Criteria Variables"
   ]
  },
  {
   "cell_type": "code",
   "execution_count": 27,
   "id": "d7279bdc",
   "metadata": {},
   "outputs": [],
   "source": [
    "# Variables\n",
    "city = \"Houston\"\n",
    "state = \"TX\"\n",
    "location = city + \", \" + state\n",
    "homeType = \"Houses\""
   ]
  },
  {
   "cell_type": "markdown",
   "id": "919caf7e",
   "metadata": {},
   "source": [
    "#### Output Data"
   ]
  },
  {
   "cell_type": "code",
   "execution_count": 28,
   "id": "031edb97",
   "metadata": {},
   "outputs": [],
   "source": [
    "# Create output directory if it does not exist\n",
    "os.makedirs('./data/', exist_ok=True)\n",
    "\n",
    "# Output file name\n",
    "year, month, day, hour, min = map(int, time.strftime(\"%Y %m %d %H %M\").split())\n",
    "time_stamp = f'{year}_{month}_{day}_{hour}_{min}'\n",
    "out_name = f\"data_{city}_{state}_{homeType}_merged_{time_stamp}.csv\""
   ]
  },
  {
   "cell_type": "markdown",
   "id": "47da069c",
   "metadata": {},
   "source": [
    "#### Merge the Data Frames"
   ]
  },
  {
   "cell_type": "code",
   "execution_count": 29,
   "id": "78c45086",
   "metadata": {},
   "outputs": [
    {
     "name": "stderr",
     "output_type": "stream",
     "text": [
      "Processing file ../01_Get_Data_w_Property_Details/data\\data_Houston_TX_Houses_p9_price_650001_900000.csv: 100%|█| 80/80\n"
     ]
    }
   ],
   "source": [
    "cnames = ['Page', 'Item', 'zid', 'State', 'City', 'Address', 'Lat', 'Lng', 'Price', 'Image', 'Bedrooms', 'Bathrooms', 'lotArea', 'constructedArea', 'zipCode', 'CountyId', 'taxRate', 'hasGarage', 'hasPool', 'hasCooling', 'hasView', 'yearBuilt', 'stories', 'parkingSpaces', 'annualHOI', 'annualHOA', 'Zone', 'schoolElemRating', 'schoolElemDist', 'schoolMidRating', 'schoolMidDist', 'schoolHighRating', 'schoolHighDist', 'priceIncreased', 'priceDiff', 'days']\n",
    "df_merged = pd.DataFrame(columns=cnames)\n",
    "\n",
    "def merge_data(csv):\n",
    "    global df_merged\n",
    "    df = pd.read_csv(csv)\n",
    "    df_merged = df_merged.append(df, ignore_index=True)\n",
    "    del(df)\n",
    "\n",
    "pbar = tqdm(listing[:len(listing)])\n",
    "for i in pbar:\n",
    "    sleep(0.5)\n",
    "    pbar.set_description(f'Processing file {i}')\n",
    "    csv = i\n",
    "    merge_data(csv)"
   ]
  },
  {
   "cell_type": "markdown",
   "id": "879dda29",
   "metadata": {},
   "source": [
    "#### Save the data"
   ]
  },
  {
   "cell_type": "code",
   "execution_count": 30,
   "id": "cb59b25f",
   "metadata": {},
   "outputs": [],
   "source": [
    "# Save the merged DF to a csv file\n",
    "df_merged.to_csv(f'./data/{out_name}', index=False)"
   ]
  }
 ],
 "metadata": {
  "kernelspec": {
   "display_name": "PythonData",
   "language": "python",
   "name": "pythondata"
  },
  "language_info": {
   "codemirror_mode": {
    "name": "ipython",
    "version": 3
   },
   "file_extension": ".py",
   "mimetype": "text/x-python",
   "name": "python",
   "nbconvert_exporter": "python",
   "pygments_lexer": "ipython3",
   "version": "3.9.12"
  }
 },
 "nbformat": 4,
 "nbformat_minor": 5
}
