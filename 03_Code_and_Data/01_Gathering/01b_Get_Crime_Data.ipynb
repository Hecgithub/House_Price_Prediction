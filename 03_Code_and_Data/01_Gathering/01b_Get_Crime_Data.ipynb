{
 "cells": [
  {
   "cell_type": "markdown",
   "id": "5b30befa",
   "metadata": {},
   "source": [
    "The crime information in Houston can be obtained here:\n",
    "https://www.houstontx.gov/police/cs/Monthly_Crime_Data_by_Street_and_Police_Beat.htm"
   ]
  },
  {
   "cell_type": "markdown",
   "id": "df2df564",
   "metadata": {},
   "source": [
    "#### Import Libraries"
   ]
  },
  {
   "cell_type": "code",
   "execution_count": 1,
   "id": "2088bd3d",
   "metadata": {},
   "outputs": [],
   "source": [
    "import pandas as pd\n",
    "import csv\n",
    "import warnings\n",
    "import re\n",
    "import math\n",
    "import os\n",
    "\n",
    "warnings.filterwarnings('ignore')\n",
    "pd.set_option('display.max_columns', None)"
   ]
  },
  {
   "cell_type": "code",
   "execution_count": 2,
   "id": "b21d1e4c",
   "metadata": {},
   "outputs": [],
   "source": [
    "input_file = \"./resources/Houston_TX_Crime_Stats_2022.xlsx\"\n",
    "\n",
    "# Create the input DF\n",
    "df = pd.read_excel(input_file)"
   ]
  },
  {
   "cell_type": "code",
   "execution_count": 3,
   "id": "d095ed39",
   "metadata": {},
   "outputs": [],
   "source": [
    "# Drop na calues in zipCode column\n",
    "df = df.dropna(subset=('ZIPCode'))"
   ]
  },
  {
   "cell_type": "code",
   "execution_count": 4,
   "id": "c540b3bb",
   "metadata": {},
   "outputs": [],
   "source": [
    "# Drop unused columns\n",
    "df = df[['NIBRSClass', 'NIBRSDescription', 'Premise', 'ZIPCode']]"
   ]
  },
  {
   "cell_type": "markdown",
   "id": "5b33cd95",
   "metadata": {},
   "source": [
    "#### Analyze the data"
   ]
  },
  {
   "cell_type": "code",
   "execution_count": 5,
   "id": "a72179b2",
   "metadata": {},
   "outputs": [
    {
     "name": "stdout",
     "output_type": "stream",
     "text": [
      "There are 185 zip codes in this table\n"
     ]
    }
   ],
   "source": [
    "zip_count = df['ZIPCode'].nunique(dropna=True)\n",
    "print(f'There are {zip_count} zip codes in this table')"
   ]
  },
  {
   "cell_type": "code",
   "execution_count": 6,
   "id": "bb8c5f77",
   "metadata": {},
   "outputs": [
    {
     "data": {
      "text/plain": [
       "NIBRSClass           60\n",
       "NIBRSDescription     61\n",
       "Premise              45\n",
       "ZIPCode             185\n",
       "dtype: int64"
      ]
     },
     "execution_count": 6,
     "metadata": {},
     "output_type": "execute_result"
    }
   ],
   "source": [
    "# Get a count of unique values for each column\n",
    "counts = df.nunique()\n",
    "counts"
   ]
  },
  {
   "cell_type": "markdown",
   "id": "ce868520",
   "metadata": {},
   "source": [
    "#### Calculate the crime rate for every Zip Code in Houston"
   ]
  },
  {
   "cell_type": "code",
   "execution_count": 20,
   "id": "f99d0dd0",
   "metadata": {},
   "outputs": [],
   "source": [
    "# Create an empty DF, only declare colun names\n",
    "cnames = ['zip', 'crimeCount', 'crimePercentage']\n",
    "df_crimeByZip = pd.DataFrame(columns=cnames)\n",
    "\n",
    "length = len(df)\n",
    "\n",
    "crimeZip = df['ZIPCode'].unique().tolist()\n",
    "\n",
    "for i in crimeZip:\n",
    "    zipType = type(i)\n",
    "    \n",
    "    if zipType is str and len(i) > 5:\n",
    "        regex = '(\\d{5})[-—–]'\n",
    "        match = re.findall(rf\"{regex}\", i)\n",
    "        zipOK = int(''.join(match))\n",
    "    elif zipType is float:\n",
    "        zipOK = math.ceil(i)\n",
    "    else:\n",
    "        zipOK = i\n",
    "    \n",
    "    count = df['ZIPCode'].value_counts()[i]\n",
    "    percent = (count / length) * 100\n",
    "    \n",
    "\n",
    "    df_row = {'zip': zipOK, 'crimeCount': count, 'crimePercentage': percent}\n",
    "\n",
    "    # Append to the crime DF\n",
    "    df_crimeByZip = df_crimeByZip.append(df_row, ignore_index=True)\n",
    "    \n",
    "df_crimeByZip['zip'] = df_crimeByZip['zip'].astype('int')\n",
    "df_crimeByZip['crimeCount'] = df_crimeByZip['crimeCount'].astype('int')"
   ]
  },
  {
   "cell_type": "markdown",
   "id": "73d12a04",
   "metadata": {},
   "source": [
    "#### Save to a csv file"
   ]
  },
  {
   "cell_type": "code",
   "execution_count": 21,
   "id": "ce791695",
   "metadata": {},
   "outputs": [],
   "source": [
    "ou_name = 'Houston_TX_Crime_Stats_per_ZipCode_2022.csv'\n",
    "\n",
    "# Create output directory if it does not exist\n",
    "ou_path = './data/'\n",
    "os.makedirs(ou_path, exist_ok=True)\n",
    "\n",
    "# Save to a csv file\n",
    "df_crimeByZip.to_csv(f'{ou_path}{ou_name}', index=False)"
   ]
  },
  {
   "cell_type": "code",
   "execution_count": null,
   "id": "640de6ea",
   "metadata": {},
   "outputs": [],
   "source": []
  }
 ],
 "metadata": {
  "kernelspec": {
   "display_name": "PythonData",
   "language": "python",
   "name": "pythondata"
  },
  "language_info": {
   "codemirror_mode": {
    "name": "ipython",
    "version": 3
   },
   "file_extension": ".py",
   "mimetype": "text/x-python",
   "name": "python",
   "nbconvert_exporter": "python",
   "pygments_lexer": "ipython3",
   "version": "3.9.12"
  }
 },
 "nbformat": 4,
 "nbformat_minor": 5
}
