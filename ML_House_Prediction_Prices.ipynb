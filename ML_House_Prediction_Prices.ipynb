{
 "cells": [
  {
   "cell_type": "code",
   "execution_count": 1,
   "metadata": {},
   "outputs": [],
   "source": [
    "import numpy as np\n",
    "import pandas as pd\n",
    "import requests\n",
    "import urllib.request\n",
    "from pathlib import Path\n",
    "from matplotlib import pyplot as plt\n",
    "import seaborn as sns\n",
    "%matplotlib inline"
   ]
  },
  {
   "cell_type": "code",
   "execution_count": 2,
   "metadata": {},
   "outputs": [],
   "source": [
    "from sklearn.linear_model import LinearRegression\n",
    "from sklearn.ensemble import RandomForestRegressor\n",
    "from sklearn.model_selection import cross_val_score, train_test_split, GridSearchCV"
   ]
  },
  {
   "cell_type": "markdown",
   "metadata": {},
   "source": [
    "# Read the CSV and Perform Basic Data Cleaning"
   ]
  },
  {
   "cell_type": "code",
   "execution_count": 3,
   "metadata": {},
   "outputs": [],
   "source": [
    "# https://github.com/Hecgithub/House_Price_Prediction/blob/03_Data_Gathering_and_Cleaning/03_Code_and_Data/03_Data_Cleaning/data/For_ML/ML_data_Houston_TX_Houses_merged_2023_1_1_12_5.csv\n",
    "\n",
    "columns = [\n",
    "    \"Lat\",\"Lng\",\"Price\",\"Bedrooms\",\"Bathrooms\",\"constructedArea\",\"zipCode\",\n",
    "    \"hasGarage\",\"hasPool\",\"hasCooling\",\"hasView\",\"yearBuilt\",\"stories\",\"parkingSpaces\",\n",
    "    \"annualHOI\",\"schoolElemRating\",\"schoolElemDist\",\"schoolMidRating\",\"schoolMidDist\",\n",
    "    \"schoolHighRating\",\"schoolHighDist\",\"priceIncreased\",\"priceDiff\",\"days\",\"lotAreaSQFT\"\n",
    "]\n",
    "\n",
    "target = [\"Price\"]"
   ]
  },
  {
   "cell_type": "code",
   "execution_count": 4,
   "metadata": {},
   "outputs": [
    {
     "data": {
      "text/plain": [
       "('ML_data_Houston_TX_Houses_merged_2023_1_1_12_5.csv',\n",
       " <http.client.HTTPMessage at 0x2ec19d3b388>)"
      ]
     },
     "execution_count": 4,
     "metadata": {},
     "output_type": "execute_result"
    }
   ],
   "source": [
    "# reading in the data set from the github \n",
    "url = 'https://raw.githubusercontent.com/Hecgithub/House_Price_Prediction/03_Data_Gathering_and_Cleaning/03_Code_and_Data/03_Data_Cleaning/data/For_ML/ML_data_Houston_TX_Houses_merged_2023_1_1_12_5.csv'\n",
    "\n",
    "urllib.request.urlretrieve(url, 'ML_data_Houston_TX_Houses_merged_2023_1_1_12_5.csv')"
   ]
  },
  {
   "cell_type": "code",
   "execution_count": 5,
   "metadata": {},
   "outputs": [
    {
     "name": "stdout",
     "output_type": "stream",
     "text": [
      "(4499, 25)\n"
     ]
    }
   ],
   "source": [
    "# There are 25 columns and 4499 rows \n",
    "df = pd.read_csv('ML_data_Houston_TX_Houses_merged_2023_1_1_12_5.csv')\n",
    "print(df.shape)"
   ]
  },
  {
   "cell_type": "code",
   "execution_count": 6,
   "metadata": {},
   "outputs": [
    {
     "data": {
      "text/html": [
       "<div>\n",
       "<style scoped>\n",
       "    .dataframe tbody tr th:only-of-type {\n",
       "        vertical-align: middle;\n",
       "    }\n",
       "\n",
       "    .dataframe tbody tr th {\n",
       "        vertical-align: top;\n",
       "    }\n",
       "\n",
       "    .dataframe thead th {\n",
       "        text-align: right;\n",
       "    }\n",
       "</style>\n",
       "<table border=\"1\" class=\"dataframe\">\n",
       "  <thead>\n",
       "    <tr style=\"text-align: right;\">\n",
       "      <th></th>\n",
       "      <th>Lat</th>\n",
       "      <th>Lng</th>\n",
       "      <th>Price</th>\n",
       "      <th>Bedrooms</th>\n",
       "      <th>Bathrooms</th>\n",
       "      <th>constructedArea</th>\n",
       "      <th>zipCode</th>\n",
       "      <th>hasGarage</th>\n",
       "      <th>hasPool</th>\n",
       "      <th>hasCooling</th>\n",
       "      <th>...</th>\n",
       "      <th>schoolElemRating</th>\n",
       "      <th>schoolElemDist</th>\n",
       "      <th>schoolMidRating</th>\n",
       "      <th>schoolMidDist</th>\n",
       "      <th>schoolHighRating</th>\n",
       "      <th>schoolHighDist</th>\n",
       "      <th>priceIncreased</th>\n",
       "      <th>priceDiff</th>\n",
       "      <th>days</th>\n",
       "      <th>lotAreaSQFT</th>\n",
       "    </tr>\n",
       "  </thead>\n",
       "  <tbody>\n",
       "    <tr>\n",
       "      <th>0</th>\n",
       "      <td>29.603600</td>\n",
       "      <td>-95.485405</td>\n",
       "      <td>276000</td>\n",
       "      <td>3</td>\n",
       "      <td>2</td>\n",
       "      <td>3612</td>\n",
       "      <td>77489</td>\n",
       "      <td>1</td>\n",
       "      <td>0</td>\n",
       "      <td>1</td>\n",
       "      <td>...</td>\n",
       "      <td>6</td>\n",
       "      <td>0.5</td>\n",
       "      <td>3</td>\n",
       "      <td>1.3</td>\n",
       "      <td>2</td>\n",
       "      <td>1.1</td>\n",
       "      <td>1</td>\n",
       "      <td>31000</td>\n",
       "      <td>1213</td>\n",
       "      <td>8764.272</td>\n",
       "    </tr>\n",
       "    <tr>\n",
       "      <th>1</th>\n",
       "      <td>29.600388</td>\n",
       "      <td>-95.488210</td>\n",
       "      <td>220000</td>\n",
       "      <td>3</td>\n",
       "      <td>2</td>\n",
       "      <td>1270</td>\n",
       "      <td>77489</td>\n",
       "      <td>1</td>\n",
       "      <td>0</td>\n",
       "      <td>1</td>\n",
       "      <td>...</td>\n",
       "      <td>6</td>\n",
       "      <td>0.3</td>\n",
       "      <td>3</td>\n",
       "      <td>1.3</td>\n",
       "      <td>2</td>\n",
       "      <td>1.0</td>\n",
       "      <td>1</td>\n",
       "      <td>65100</td>\n",
       "      <td>503</td>\n",
       "      <td>7884.360</td>\n",
       "    </tr>\n",
       "    <tr>\n",
       "      <th>2</th>\n",
       "      <td>29.595436</td>\n",
       "      <td>-95.485880</td>\n",
       "      <td>230000</td>\n",
       "      <td>4</td>\n",
       "      <td>2</td>\n",
       "      <td>1765</td>\n",
       "      <td>77489</td>\n",
       "      <td>1</td>\n",
       "      <td>0</td>\n",
       "      <td>1</td>\n",
       "      <td>...</td>\n",
       "      <td>6</td>\n",
       "      <td>0.3</td>\n",
       "      <td>3</td>\n",
       "      <td>1.0</td>\n",
       "      <td>2</td>\n",
       "      <td>0.6</td>\n",
       "      <td>1</td>\n",
       "      <td>115275</td>\n",
       "      <td>5140</td>\n",
       "      <td>7148.196</td>\n",
       "    </tr>\n",
       "    <tr>\n",
       "      <th>3</th>\n",
       "      <td>29.597320</td>\n",
       "      <td>-95.492690</td>\n",
       "      <td>225000</td>\n",
       "      <td>3</td>\n",
       "      <td>2</td>\n",
       "      <td>1444</td>\n",
       "      <td>77489</td>\n",
       "      <td>1</td>\n",
       "      <td>0</td>\n",
       "      <td>1</td>\n",
       "      <td>...</td>\n",
       "      <td>6</td>\n",
       "      <td>0.1</td>\n",
       "      <td>3</td>\n",
       "      <td>1.4</td>\n",
       "      <td>2</td>\n",
       "      <td>1.0</td>\n",
       "      <td>1</td>\n",
       "      <td>56000</td>\n",
       "      <td>824</td>\n",
       "      <td>7731.900</td>\n",
       "    </tr>\n",
       "    <tr>\n",
       "      <th>4</th>\n",
       "      <td>29.592060</td>\n",
       "      <td>-95.489050</td>\n",
       "      <td>246500</td>\n",
       "      <td>3</td>\n",
       "      <td>2</td>\n",
       "      <td>1738</td>\n",
       "      <td>77489</td>\n",
       "      <td>1</td>\n",
       "      <td>0</td>\n",
       "      <td>1</td>\n",
       "      <td>...</td>\n",
       "      <td>6</td>\n",
       "      <td>0.3</td>\n",
       "      <td>3</td>\n",
       "      <td>1.0</td>\n",
       "      <td>2</td>\n",
       "      <td>0.6</td>\n",
       "      <td>1</td>\n",
       "      <td>41500</td>\n",
       "      <td>6810</td>\n",
       "      <td>8062.956</td>\n",
       "    </tr>\n",
       "  </tbody>\n",
       "</table>\n",
       "<p>5 rows × 25 columns</p>\n",
       "</div>"
      ],
      "text/plain": [
       "         Lat        Lng   Price  Bedrooms  Bathrooms  constructedArea  \\\n",
       "0  29.603600 -95.485405  276000         3          2             3612   \n",
       "1  29.600388 -95.488210  220000         3          2             1270   \n",
       "2  29.595436 -95.485880  230000         4          2             1765   \n",
       "3  29.597320 -95.492690  225000         3          2             1444   \n",
       "4  29.592060 -95.489050  246500         3          2             1738   \n",
       "\n",
       "   zipCode  hasGarage  hasPool  hasCooling  ...  schoolElemRating  \\\n",
       "0    77489          1        0           1  ...                 6   \n",
       "1    77489          1        0           1  ...                 6   \n",
       "2    77489          1        0           1  ...                 6   \n",
       "3    77489          1        0           1  ...                 6   \n",
       "4    77489          1        0           1  ...                 6   \n",
       "\n",
       "   schoolElemDist  schoolMidRating  schoolMidDist  schoolHighRating  \\\n",
       "0             0.5                3            1.3                 2   \n",
       "1             0.3                3            1.3                 2   \n",
       "2             0.3                3            1.0                 2   \n",
       "3             0.1                3            1.4                 2   \n",
       "4             0.3                3            1.0                 2   \n",
       "\n",
       "   schoolHighDist  priceIncreased  priceDiff  days  lotAreaSQFT  \n",
       "0             1.1               1      31000  1213     8764.272  \n",
       "1             1.0               1      65100   503     7884.360  \n",
       "2             0.6               1     115275  5140     7148.196  \n",
       "3             1.0               1      56000   824     7731.900  \n",
       "4             0.6               1      41500  6810     8062.956  \n",
       "\n",
       "[5 rows x 25 columns]"
      ]
     },
     "execution_count": 6,
     "metadata": {},
     "output_type": "execute_result"
    }
   ],
   "source": [
    "# Peek at the dateset\n",
    "df.head()"
   ]
  },
  {
   "cell_type": "code",
   "execution_count": 7,
   "metadata": {},
   "outputs": [
    {
     "name": "stdout",
     "output_type": "stream",
     "text": [
      "<class 'pandas.core.frame.DataFrame'>\n",
      "RangeIndex: 4499 entries, 0 to 4498\n",
      "Data columns (total 25 columns):\n",
      " #   Column            Non-Null Count  Dtype  \n",
      "---  ------            --------------  -----  \n",
      " 0   Lat               4499 non-null   float64\n",
      " 1   Lng               4499 non-null   float64\n",
      " 2   Price             4499 non-null   int64  \n",
      " 3   Bedrooms          4499 non-null   int64  \n",
      " 4   Bathrooms         4499 non-null   int64  \n",
      " 5   constructedArea   4499 non-null   int64  \n",
      " 6   zipCode           4499 non-null   int64  \n",
      " 7   hasGarage         4499 non-null   int64  \n",
      " 8   hasPool           4499 non-null   int64  \n",
      " 9   hasCooling        4499 non-null   int64  \n",
      " 10  hasView           4499 non-null   int64  \n",
      " 11  yearBuilt         4499 non-null   int64  \n",
      " 12  stories           4499 non-null   int64  \n",
      " 13  parkingSpaces     4499 non-null   int64  \n",
      " 14  annualHOI         4499 non-null   int64  \n",
      " 15  schoolElemRating  4499 non-null   int64  \n",
      " 16  schoolElemDist    4499 non-null   float64\n",
      " 17  schoolMidRating   4499 non-null   int64  \n",
      " 18  schoolMidDist     4499 non-null   float64\n",
      " 19  schoolHighRating  4499 non-null   int64  \n",
      " 20  schoolHighDist    4499 non-null   float64\n",
      " 21  priceIncreased    4499 non-null   int64  \n",
      " 22  priceDiff         4499 non-null   int64  \n",
      " 23  days              4499 non-null   int64  \n",
      " 24  lotAreaSQFT       4499 non-null   float64\n",
      "dtypes: float64(6), int64(19)\n",
      "memory usage: 878.8 KB\n"
     ]
    }
   ],
   "source": [
    "# Checking the features of the data set\n",
    "df.info()"
   ]
  },
  {
   "cell_type": "code",
   "execution_count": 8,
   "metadata": {},
   "outputs": [
    {
     "data": {
      "text/html": [
       "<div>\n",
       "<style scoped>\n",
       "    .dataframe tbody tr th:only-of-type {\n",
       "        vertical-align: middle;\n",
       "    }\n",
       "\n",
       "    .dataframe tbody tr th {\n",
       "        vertical-align: top;\n",
       "    }\n",
       "\n",
       "    .dataframe thead th {\n",
       "        text-align: right;\n",
       "    }\n",
       "</style>\n",
       "<table border=\"1\" class=\"dataframe\">\n",
       "  <thead>\n",
       "    <tr style=\"text-align: right;\">\n",
       "      <th></th>\n",
       "      <th>MissvalCount</th>\n",
       "    </tr>\n",
       "  </thead>\n",
       "  <tbody>\n",
       "    <tr>\n",
       "      <th>Lat</th>\n",
       "      <td>0</td>\n",
       "    </tr>\n",
       "    <tr>\n",
       "      <th>parkingSpaces</th>\n",
       "      <td>0</td>\n",
       "    </tr>\n",
       "    <tr>\n",
       "      <th>days</th>\n",
       "      <td>0</td>\n",
       "    </tr>\n",
       "    <tr>\n",
       "      <th>priceDiff</th>\n",
       "      <td>0</td>\n",
       "    </tr>\n",
       "    <tr>\n",
       "      <th>priceIncreased</th>\n",
       "      <td>0</td>\n",
       "    </tr>\n",
       "    <tr>\n",
       "      <th>schoolHighDist</th>\n",
       "      <td>0</td>\n",
       "    </tr>\n",
       "    <tr>\n",
       "      <th>schoolHighRating</th>\n",
       "      <td>0</td>\n",
       "    </tr>\n",
       "    <tr>\n",
       "      <th>schoolMidDist</th>\n",
       "      <td>0</td>\n",
       "    </tr>\n",
       "    <tr>\n",
       "      <th>schoolMidRating</th>\n",
       "      <td>0</td>\n",
       "    </tr>\n",
       "    <tr>\n",
       "      <th>schoolElemDist</th>\n",
       "      <td>0</td>\n",
       "    </tr>\n",
       "    <tr>\n",
       "      <th>schoolElemRating</th>\n",
       "      <td>0</td>\n",
       "    </tr>\n",
       "    <tr>\n",
       "      <th>annualHOI</th>\n",
       "      <td>0</td>\n",
       "    </tr>\n",
       "    <tr>\n",
       "      <th>stories</th>\n",
       "      <td>0</td>\n",
       "    </tr>\n",
       "    <tr>\n",
       "      <th>Lng</th>\n",
       "      <td>0</td>\n",
       "    </tr>\n",
       "    <tr>\n",
       "      <th>yearBuilt</th>\n",
       "      <td>0</td>\n",
       "    </tr>\n",
       "    <tr>\n",
       "      <th>hasView</th>\n",
       "      <td>0</td>\n",
       "    </tr>\n",
       "    <tr>\n",
       "      <th>hasCooling</th>\n",
       "      <td>0</td>\n",
       "    </tr>\n",
       "    <tr>\n",
       "      <th>hasPool</th>\n",
       "      <td>0</td>\n",
       "    </tr>\n",
       "    <tr>\n",
       "      <th>hasGarage</th>\n",
       "      <td>0</td>\n",
       "    </tr>\n",
       "    <tr>\n",
       "      <th>zipCode</th>\n",
       "      <td>0</td>\n",
       "    </tr>\n",
       "    <tr>\n",
       "      <th>constructedArea</th>\n",
       "      <td>0</td>\n",
       "    </tr>\n",
       "    <tr>\n",
       "      <th>Bathrooms</th>\n",
       "      <td>0</td>\n",
       "    </tr>\n",
       "    <tr>\n",
       "      <th>Bedrooms</th>\n",
       "      <td>0</td>\n",
       "    </tr>\n",
       "    <tr>\n",
       "      <th>Price</th>\n",
       "      <td>0</td>\n",
       "    </tr>\n",
       "    <tr>\n",
       "      <th>lotAreaSQFT</th>\n",
       "      <td>0</td>\n",
       "    </tr>\n",
       "  </tbody>\n",
       "</table>\n",
       "</div>"
      ],
      "text/plain": [
       "                  MissvalCount\n",
       "Lat                          0\n",
       "parkingSpaces                0\n",
       "days                         0\n",
       "priceDiff                    0\n",
       "priceIncreased               0\n",
       "schoolHighDist               0\n",
       "schoolHighRating             0\n",
       "schoolMidDist                0\n",
       "schoolMidRating              0\n",
       "schoolElemDist               0\n",
       "schoolElemRating             0\n",
       "annualHOI                    0\n",
       "stories                      0\n",
       "Lng                          0\n",
       "yearBuilt                    0\n",
       "hasView                      0\n",
       "hasCooling                   0\n",
       "hasPool                      0\n",
       "hasGarage                    0\n",
       "zipCode                      0\n",
       "constructedArea              0\n",
       "Bathrooms                    0\n",
       "Bedrooms                     0\n",
       "Price                        0\n",
       "lotAreaSQFT                  0"
      ]
     },
     "execution_count": 8,
     "metadata": {},
     "output_type": "execute_result"
    }
   ],
   "source": [
    "# Find columns with missing values and their percent missing\n",
    "df.isnull().sum()                                                     \n",
    "miss_val = df.isnull().sum().sort_values(ascending=False)\n",
    "miss_val = pd.DataFrame(data=df.isnull().sum().sort_values(ascending=False), columns=['MissvalCount'])\n",
    "miss_val\n"
   ]
  },
  {
   "cell_type": "code",
   "execution_count": 9,
   "metadata": {},
   "outputs": [],
   "source": [
    "# drop rows with any missing values\n",
    "df.dropna(inplace=True)"
   ]
  },
  {
   "cell_type": "code",
   "execution_count": 10,
   "metadata": {},
   "outputs": [
    {
     "data": {
      "text/plain": [
       "(4499, 25)"
      ]
     },
     "execution_count": 10,
     "metadata": {},
     "output_type": "execute_result"
    }
   ],
   "source": [
    "# Check the dimension of the dataset\n",
    "df.shape"
   ]
  },
  {
   "cell_type": "markdown",
   "metadata": {},
   "source": [
    "Data set is clean and there is still 25 features and 4499 observations "
   ]
  },
  {
   "cell_type": "markdown",
   "metadata": {},
   "source": [
    "# Explore Data"
   ]
  },
  {
   "cell_type": "code",
   "execution_count": 11,
   "metadata": {},
   "outputs": [
    {
     "name": "stderr",
     "output_type": "stream",
     "text": [
      "C:\\Users\\HecTi\\anaconda3\\envs\\mlenv\\lib\\site-packages\\ipykernel_launcher.py:2: UserWarning: \n",
      "\n",
      "`distplot` is a deprecated function and will be removed in seaborn v0.14.0.\n",
      "\n",
      "Please adapt your code to use either `displot` (a figure-level function with\n",
      "similar flexibility) or `histplot` (an axes-level function for histograms).\n",
      "\n",
      "For a guide to updating your code to use the new functions, please see\n",
      "https://gist.github.com/mwaskom/de44147ed2974457ad6372750bbe5751\n",
      "\n",
      "  \n"
     ]
    },
    {
     "data": {
      "text/plain": [
       "<AxesSubplot:xlabel='Price', ylabel='Density'>"
      ]
     },
     "execution_count": 11,
     "metadata": {},
     "output_type": "execute_result"
    },
    {
     "data": {
      "image/png": "[encoded data removed]",
      "text/plain": [
       "<Figure size 640x480 with 1 Axes>"
      ]
     },
     "metadata": {},
     "output_type": "display_data"
    }
   ],
   "source": [
    "# Check distribution of target variable which is Price\n",
    "sns.distplot(df.Price)"
   ]
  },
  {
   "cell_type": "markdown",
   "metadata": {},
   "source": [
    "The Price distribution is slightly skewed to the right. "
   ]
  },
  {
   "cell_type": "code",
   "execution_count": 12,
   "metadata": {},
   "outputs": [
    {
     "name": "stderr",
     "output_type": "stream",
     "text": [
      "C:\\Users\\HecTi\\anaconda3\\envs\\mlenv\\lib\\site-packages\\ipykernel_launcher.py:2: UserWarning: \n",
      "\n",
      "`distplot` is a deprecated function and will be removed in seaborn v0.14.0.\n",
      "\n",
      "Please adapt your code to use either `displot` (a figure-level function with\n",
      "similar flexibility) or `histplot` (an axes-level function for histograms).\n",
      "\n",
      "For a guide to updating your code to use the new functions, please see\n",
      "https://gist.github.com/mwaskom/de44147ed2974457ad6372750bbe5751\n",
      "\n",
      "  \n"
     ]
    },
    {
     "data": {
      "text/plain": [
       "<AxesSubplot:xlabel='Price', ylabel='Density'>"
      ]
     },
     "execution_count": 12,
     "metadata": {},
     "output_type": "execute_result"
    },
    {
     "data": {
      "image/png": "[encoded data removed]",
      "text/plain": [
       "<Figure size 640x480 with 1 Axes>"
      ]
     },
     "metadata": {},
     "output_type": "display_data"
    }
   ],
   "source": [
    "# Transform the target variable \n",
    "sns.distplot(np.log(df.Price))"
   ]
  },
  {
   "cell_type": "markdown",
   "metadata": {},
   "source": [
    "The data is now more normally distributed. "
   ]
  },
  {
   "cell_type": "code",
   "execution_count": 13,
   "metadata": {},
   "outputs": [],
   "source": [
    "df['LogOfPrice'] = np.log(df.Price)\n",
    "df.drop([\"Price\"], axis=1, inplace=True)"
   ]
  },
  {
   "cell_type": "code",
   "execution_count": 14,
   "metadata": {},
   "outputs": [
    {
     "data": {
      "text/plain": [
       "lotAreaSQFT         10.877670\n",
       "hasView              9.528929\n",
       "hasPool              3.625326\n",
       "zipCode              3.038346\n",
       "days                 2.031827\n",
       "schoolElemDist       1.765458\n",
       "schoolHighDist       1.230334\n",
       "annualHOI            1.211468\n",
       "constructedArea      1.210563\n",
       "stories              0.898205\n",
       "Bedrooms             0.840323\n",
       "schoolMidDist        0.830383\n",
       "schoolHighRating     0.626184\n",
       "schoolElemRating     0.546457\n",
       "schoolMidRating      0.510015\n",
       "LogOfPrice           0.471178\n",
       "Lat                  0.295324\n",
       "priceIncreased       0.269677\n",
       "Bathrooms            0.269386\n",
       "Lng                  0.179166\n",
       "parkingSpaces       -0.129342\n",
       "yearBuilt           -0.619684\n",
       "hasGarage           -1.802039\n",
       "hasCooling          -4.553775\n",
       "priceDiff          -66.816302\n",
       "dtype: float64"
      ]
     },
     "execution_count": 14,
     "metadata": {},
     "output_type": "execute_result"
    }
   ],
   "source": [
    "# Review the skewness of each feature\n",
    "df.skew().sort_values(ascending=False)"
   ]
  },
  {
   "cell_type": "markdown",
   "metadata": {},
   "source": [
    "Values that are closer to zero are less skewed. "
   ]
  },
  {
   "cell_type": "markdown",
   "metadata": {},
   "source": [
    "# Train- Test Split dataset\n"
   ]
  },
  {
   "cell_type": "code",
   "execution_count": 15,
   "metadata": {},
   "outputs": [],
   "source": [
    "# set the target and predictors\n",
    "y = df.LogOfPrice  # target\n",
    "\n",
    "# use only those input features with numeric data type \n",
    "df_temp = df.select_dtypes(include=[\"int64\",\"float64\"]) \n",
    "X = df_temp.drop([\"LogOfPrice\"],axis=1)  # predictors"
   ]
  },
  {
   "cell_type": "code",
   "execution_count": 16,
   "metadata": {},
   "outputs": [],
   "source": [
    "# split the dataset into train and test sets\n",
    "X_train, X_test, y_train, y_test = train_test_split(X, y, test_size = .25, random_state = 3)"
   ]
  },
  {
   "cell_type": "markdown",
   "metadata": {},
   "source": [
    "Spliting the data set, will use random sampling with 75/25 train-test split. "
   ]
  },
  {
   "cell_type": "markdown",
   "metadata": {},
   "source": [
    "# Modeling"
   ]
  },
  {
   "cell_type": "markdown",
   "metadata": {},
   "source": [
    "## Linear Regression "
   ]
  },
  {
   "cell_type": "code",
   "execution_count": 17,
   "metadata": {},
   "outputs": [
    {
     "data": {
      "text/plain": [
       "LinearRegression()"
      ]
     },
     "execution_count": 17,
     "metadata": {},
     "output_type": "execute_result"
    }
   ],
   "source": [
    "lr = LinearRegression()\n",
    "# fit optimal linear regression line on training data, this performs gradient descent under the hood\n",
    "lr.fit(X_train, y_train)"
   ]
  },
  {
   "cell_type": "code",
   "execution_count": 18,
   "metadata": {},
   "outputs": [],
   "source": [
    "# given our model and our fit, predict y_values using X_test set\n",
    "yr_hat = lr.predict(X_test)"
   ]
  },
  {
   "cell_type": "code",
   "execution_count": 19,
   "metadata": {},
   "outputs": [
    {
     "name": "stdout",
     "output_type": "stream",
     "text": [
      "Accuracy:  0.9633032574100235\n"
     ]
    }
   ],
   "source": [
    "# evaluate the algorithm with a test set \n",
    "lr_score = lr.score(X_test, y_test)  # train test \n",
    "print(\"Accuracy: \", lr_score)"
   ]
  },
  {
   "cell_type": "code",
   "execution_count": 20,
   "metadata": {},
   "outputs": [
    {
     "name": "stdout",
     "output_type": "stream",
     "text": [
      "Cross-validation results:  [0.8566111  0.95336821 0.96140603 0.9651526  0.95384005]\n",
      "R2:  0.9380755984223363\n"
     ]
    }
   ],
   "source": [
    "# cross validation to find 'validate' score across multiple samples, automatically does Kfold stratifying\n",
    "lr_cv = cross_val_score(lr, X, y, cv = 5, scoring= 'r2')\n",
    "print(\"Cross-validation results: \", lr_cv)\n",
    "print(\"R2: \", lr_cv.mean())"
   ]
  },
  {
   "cell_type": "markdown",
   "metadata": {},
   "source": [
    "## Random Forest"
   ]
  },
  {
   "cell_type": "code",
   "execution_count": 21,
   "metadata": {},
   "outputs": [
    {
     "name": "stdout",
     "output_type": "stream",
     "text": [
      "R2:  0.9932550230884505\n"
     ]
    }
   ],
   "source": [
    "#rfr = RandomForestRegressor(n_estimators = 100, max_depth = 5, min_samples_leaf= 5, max_features = 'sqrt')  # using GridSearch\n",
    "rfr = RandomForestRegressor()\n",
    "rfr.fit(X_train, y_train) # gets the parameters for the rfr model\n",
    "rfr_cv = cross_val_score(rfr,X, y, cv = 5, scoring = 'r2')\n",
    "print(\"R2: \", rfr_cv.mean())"
   ]
  },
  {
   "cell_type": "code",
   "execution_count": 22,
   "metadata": {},
   "outputs": [
    {
     "data": {
      "text/plain": [
       "array([2.29425464e-04, 2.39976403e-04, 2.30128977e-05, 1.04261366e-04,\n",
       "       6.95131494e-04, 1.43825440e-04, 2.24571381e-05, 1.78577102e-06,\n",
       "       1.81783839e-07, 3.62142876e-06, 6.37510814e-04, 8.45703953e-05,\n",
       "       4.27894590e-05, 9.92052367e-01, 3.23030678e-04, 1.69069280e-04,\n",
       "       5.91486933e-05, 8.11179217e-05, 1.36212613e-04, 3.10113620e-04,\n",
       "       9.77811435e-06, 3.64575036e-03, 2.15914874e-04, 7.68946533e-04])"
      ]
     },
     "execution_count": 22,
     "metadata": {},
     "output_type": "execute_result"
    }
   ],
   "source": [
    "# Random forest determined feature importances\n",
    "rfr.feature_importances_"
   ]
  },
  {
   "cell_type": "markdown",
   "metadata": {},
   "source": [
    "## Plotting Feature Importance "
   ]
  },
  {
   "cell_type": "code",
   "execution_count": 23,
   "metadata": {},
   "outputs": [
    {
     "name": "stdout",
     "output_type": "stream",
     "text": [
      "['annualHOI', 'priceDiff', 'lotAreaSQFT', 'constructedArea', 'yearBuilt', 'schoolElemRating', 'schoolHighDist', 'Lng', 'Lat', 'days', 'schoolElemDist', 'zipCode', 'schoolHighRating', 'Bathrooms', 'stories']\n"
     ]
    }
   ],
   "source": [
    "importance = rfr.feature_importances_\n",
    "\n",
    "# map feature importance values to the features\n",
    "feature_importances = zip(importance, X.columns)\n",
    "#list(feature_importances)\n",
    "\n",
    "sorted_feature_importances = sorted(feature_importances, reverse = True)\n",
    "#print(sorted_feature_importances)\n",
    "\n",
    "top_15_predictors = sorted_feature_importances[0:15]\n",
    "values = [value for value, predictors in top_15_predictors]\n",
    "predictors = [predictors for value, predictors in top_15_predictors]\n",
    "print(predictors)"
   ]
  },
  {
   "cell_type": "code",
   "execution_count": 24,
   "metadata": {},
   "outputs": [
    {
     "data": {
      "image/png": "[encoded data removed]",
      "text/plain": [
       "<Figure size 640x480 with 1 Axes>"
      ]
     },
     "metadata": {},
     "output_type": "display_data"
    }
   ],
   "source": [
    "# Plot the feature importances of the forest\n",
    "plt.figure()\n",
    "plt.title(\"Feature importances\")\n",
    "plt.bar(range(len(predictors)), values,color=\"r\", align=\"center\");\n",
    "plt.xticks(range(len(predictors)), predictors, rotation=90);"
   ]
  },
  {
   "cell_type": "markdown",
   "metadata": {},
   "source": [
    "Annual HOI was the hiighest determinig factor for price. "
   ]
  }
 ],
 "metadata": {
  "kernelspec": {
   "display_name": "mlenv",
   "language": "python",
   "name": "mlenv"
  },
  "language_info": {
   "codemirror_mode": {
    "name": "ipython",
    "version": 3
   },
   "file_extension": ".py",
   "mimetype": "text/x-python",
   "name": "python",
   "nbconvert_exporter": "python",
   "pygments_lexer": "ipython3",
   "version": "3.7.15"
  }
 },
 "nbformat": 4,
 "nbformat_minor": 2
}
