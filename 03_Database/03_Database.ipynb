{
 "cells": [
  {
   "cell_type": "code",
   "execution_count": 83,
   "id": "5b7c9078",
   "metadata": {},
   "outputs": [],
   "source": [
    "# Import libraries\n",
    "import psycopg2\n",
    "import psycopg2.extras\n",
    "import time\n",
    "import re\n",
    "import os\n",
    "import glob\n",
    "\n",
    "from config import db as dbpwd"
   ]
  },
  {
   "cell_type": "code",
   "execution_count": 97,
   "id": "b1c58f81",
   "metadata": {},
   "outputs": [
    {
     "name": "stdout",
     "output_type": "stream",
     "text": [
      "The input file will be saved to the db as a table named: data_houston_tx_houses_merged_2022_12_23_20_59\n"
     ]
    }
   ],
   "source": [
    "# Data base connection details\n",
    "hostname = 'localhost'\n",
    "database = 'real_estate_data_test'\n",
    "username = 'postgres'\n",
    "pwd = dbpwd\n",
    "port_id = 5432\n",
    "conn = None\n",
    "\n",
    "# Load the input data (only the most recent file)\n",
    "data_path = \"../02_Merge_Data/data/*.csv\"\n",
    "listing = glob.glob(data_path)\n",
    "latest_file = max(listing, key=os.path.getctime)\n",
    "\n",
    "# Define the table name\n",
    "regex = \"(data_.+).csv\"\n",
    "match = re.findall(rf\"{regex}\", latest_file)\n",
    "name = ''.join(match)\n",
    "table_name = name.lower()\n",
    "print(f'The input file will be saved to the db as a table named: {table_name}')"
   ]
  },
  {
   "cell_type": "code",
   "execution_count": 99,
   "id": "a9526710",
   "metadata": {},
   "outputs": [],
   "source": [
    "#connect to the database\n",
    "conn = psycopg2.connect(host=hostname,\n",
    "                       dbname=database,\n",
    "                       user=username,\n",
    "                       password=pwd,\n",
    "                       port=port_id)  \n",
    "#create a cursor object \n",
    "#cursor object is used to interact with the database\n",
    "cur = conn.cursor()\n",
    "\n",
    "#create table with same headers as csv file\n",
    "cur.execute('DROP TABLE IF EXISTS {}'.format(table_name))\n",
    "cur.execute('CREATE TABLE IF NOT EXISTS {}(Page text, Item text, ZID text, State text, City text, Number text, Street text, zipCode text, Lat text, Lng text, Price text, Image text, Bedrooms text, Bathrooms text, Status text, daysOnSale text)'.format(table_name))\n",
    "\n",
    "# CHECK HOW TO CHANGE THE TYPE OF THE COLUMNS\n",
    "#cur.execute('CREATE TABLE IF NOT EXISTS {}(Page int, Item int, ZID int, State text, City text, Number int, Street text, zipCode int, Lat float, Lng float, Price int, Image text, Bedrooms int, Bathrooms int, Status text, daysOnSale int)'.format(table_name))\n",
    "\n",
    "\n",
    "#open the csv file using python standard file I/O\n",
    "#copy file into the table just created \n",
    "with open(latest_file, 'r') as f:\n",
    "    next(f) # Skip the header row.\n",
    "    #f , <database name>, Comma-Seperated\n",
    "    cur.copy_from(f, table_name, sep=',')\n",
    "    #Commit Changes\n",
    "    conn.commit()\n",
    "    #Close connection\n",
    "    conn.close()\n",
    "\n",
    "f.close()"
   ]
  },
  {
   "cell_type": "code",
   "execution_count": null,
   "id": "78c25ff1",
   "metadata": {},
   "outputs": [],
   "source": []
  }
 ],
 "metadata": {
  "kernelspec": {
   "display_name": "PythonData",
   "language": "python",
   "name": "pythondata"
  },
  "language_info": {
   "codemirror_mode": {
    "name": "ipython",
    "version": 3
   },
   "file_extension": ".py",
   "mimetype": "text/x-python",
   "name": "python",
   "nbconvert_exporter": "python",
   "pygments_lexer": "ipython3",
   "version": "3.9.12"
  }
 },
 "nbformat": 4,
 "nbformat_minor": 5
}
