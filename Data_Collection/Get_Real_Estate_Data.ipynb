{
 "cells": [
  {
   "cell_type": "markdown",
   "id": "0f889c18",
   "metadata": {},
   "source": [
    "# Final Project: House Price Prediction\n",
    "## Corpus Christi Team\n",
    "### Step 1 (Data Collection)"
   ]
  },
  {
   "cell_type": "markdown",
   "id": "08217099",
   "metadata": {},
   "source": [
    "The data is obtained from _Zillow.com_\n",
    "\n",
    "The data is requested through API calls using _RapidAPI_\n",
    "\n",
    "**MAKE SURE TO INPUT YOUR RapiAPI key**"
   ]
  },
  {
   "cell_type": "markdown",
   "id": "afda6757",
   "metadata": {},
   "source": [
    "#### Import requested libraries"
   ]
  },
  {
   "cell_type": "code",
   "execution_count": 1,
   "id": "a35f4006",
   "metadata": {},
   "outputs": [],
   "source": [
    "import pandas as pd\n",
    "import requests\n",
    "import json\n",
    "import re\n",
    "import os\n",
    "import warnings\n",
    "\n",
    "warnings.filterwarnings('ignore')\n",
    "pd.set_option('display.max_columns', None)\n",
    "\n",
    "# Import your RapidAPI key\n",
    "from config import krapid as key"
   ]
  },
  {
   "cell_type": "markdown",
   "id": "2ec8e429",
   "metadata": {},
   "source": [
    "#### Define the search filters"
   ]
  },
  {
   "cell_type": "markdown",
   "id": "e69e5e44",
   "metadata": {},
   "source": [
    "**NOTE:** For the min/max price please use these values:\n",
    "\n",
    "* From 100,000 to 250,000 (Hector)\n",
    "* From 250,001 to 300,000 (Nino)\n",
    "* From 300,001 to 375,000 (Oscar)\n",
    "* From 375,001 to 500,000 (Neeraja)\n",
    "* From 500,001 to 900,000 (Dianabasi)\n",
    "\n",
    "**ADDITIONAL NOTES:** For the min/max price please use these values:\n",
    "\n",
    "* Each person should be able to make 20 API calls for free.\n",
    "* Each API call to an endpoint returns data from 40 houses.\n",
    "* In total each person should retrieve data from about 800 houses (20 pages)\n",
    "* We will all gather information from ~4000 houses in Houston, TX."
   ]
  },
  {
   "cell_type": "code",
   "execution_count": 11,
   "id": "73d3c32e",
   "metadata": {},
   "outputs": [],
   "source": [
    "# API specific (do not modify)\n",
    "host = \"zillow-com1.p.rapidapi.com\"\n",
    "url = \"https://\" + host + \"/propertyExtendedSearch\"\n",
    "\n",
    "# Search filters\n",
    "city = \"Houston\"\n",
    "state = \"TX\"\n",
    "location = city + \", \" + state\n",
    "homeType = \"Houses\"\n",
    "\n",
    "# REMEMBER TO MODIFY THESE 3 VARIABLES\n",
    "page = 2 # Iterate from 1 to 20\n",
    "minPrice = 300001 # Use your assigned min price\n",
    "maxPrice = 375000 # Use your assigned max price\n",
    "\n",
    "sort = \"Price_Low_High\"\n",
    "minSqft = \"1,000 sqft\"\n",
    "maxSqft = \"1/4 acre/10,890 sqft\""
   ]
  },
  {
   "cell_type": "markdown",
   "id": "d68d3636",
   "metadata": {},
   "source": [
    "#### Output Parameters"
   ]
  },
  {
   "cell_type": "code",
   "execution_count": 12,
   "id": "ccbbb6e1",
   "metadata": {},
   "outputs": [],
   "source": [
    "# Create output directory if it does not exist\n",
    "os.makedirs('./data/', exist_ok=True)\n",
    "\n",
    "# Output file name\n",
    "out_name = f\"data_{city}_{state}_{homeType}_p{page}_price_{minPrice}_{maxPrice}\""
   ]
  },
  {
   "cell_type": "markdown",
   "id": "e4e78669",
   "metadata": {},
   "source": [
    "#### Perform the query"
   ]
  },
  {
   "cell_type": "code",
   "execution_count": 13,
   "id": "94065f98",
   "metadata": {},
   "outputs": [
    {
     "name": "stdout",
     "output_type": "stream",
     "text": [
      "<Response [200]>\n"
     ]
    }
   ],
   "source": [
    "querystring = {\"location\":location,\"page\":page,\"home_type\":homeType,\"sort\": sort,\"minPrice\":minPrice,\"maxPrice\":maxPrice,\"lotSizeMin\":minSqft,\"lotSizeMax\":maxSqft}\n",
    "\n",
    "headers = {\n",
    "\t\"X-RapidAPI-Key\": key,\n",
    "\t\"X-RapidAPI-Host\": host\n",
    "}\n",
    "\n",
    "response = requests.request(\"GET\", url, headers=headers, params=querystring)\n",
    "json_response = response.json()\n",
    "print(response) # If 200, it was successful"
   ]
  },
  {
   "cell_type": "markdown",
   "id": "b0fb622c",
   "metadata": {},
   "source": [
    "#### Initial basic QC (optional)"
   ]
  },
  {
   "cell_type": "code",
   "execution_count": null,
   "id": "dc136ea8",
   "metadata": {},
   "outputs": [],
   "source": [
    "# Run this cell to view the response\n",
    "#json_response # Check the retrieved data\n",
    "#json_response.keys() # Check the keys of the json response\n",
    "#json_response['props'][0] # Display the first house data"
   ]
  },
  {
   "cell_type": "markdown",
   "id": "9da6a24a",
   "metadata": {},
   "source": [
    "#### Save the raw response"
   ]
  },
  {
   "cell_type": "code",
   "execution_count": 14,
   "id": "6bbdb122",
   "metadata": {},
   "outputs": [],
   "source": [
    "# Write json response to a text file (Optional as a backup)\n",
    "f = open(f'./data/{out_name}.txt', \"w\")\n",
    "f.write(response.text)\n",
    "f.close()"
   ]
  },
  {
   "cell_type": "code",
   "execution_count": 8,
   "id": "e1524e19",
   "metadata": {},
   "outputs": [],
   "source": [
    "# Import the text file (Only if need to begin from this point)\n",
    "#f = open(f'./data/{out_name}.txt', 'r')\n",
    "#content = f.read()\n",
    "#jsonImported = json.loads(content)\n",
    "#jsonImported"
   ]
  },
  {
   "cell_type": "markdown",
   "id": "3331441b",
   "metadata": {},
   "source": [
    "#### Create a clean real estate data DF"
   ]
  },
  {
   "cell_type": "code",
   "execution_count": 15,
   "id": "14e0b1f7",
   "metadata": {},
   "outputs": [
    {
     "data": {
      "text/html": [
       "<div>\n",
       "<style scoped>\n",
       "    .dataframe tbody tr th:only-of-type {\n",
       "        vertical-align: middle;\n",
       "    }\n",
       "\n",
       "    .dataframe tbody tr th {\n",
       "        vertical-align: top;\n",
       "    }\n",
       "\n",
       "    .dataframe thead th {\n",
       "        text-align: right;\n",
       "    }\n",
       "</style>\n",
       "<table border=\"1\" class=\"dataframe\">\n",
       "  <thead>\n",
       "    <tr style=\"text-align: right;\">\n",
       "      <th></th>\n",
       "      <th>Page</th>\n",
       "      <th>Item</th>\n",
       "      <th>zid</th>\n",
       "      <th>State</th>\n",
       "      <th>City</th>\n",
       "      <th>Number</th>\n",
       "      <th>Street</th>\n",
       "      <th>zipCode</th>\n",
       "      <th>Lat</th>\n",
       "      <th>Lng</th>\n",
       "      <th>Price</th>\n",
       "      <th>Image</th>\n",
       "      <th>Bedrooms</th>\n",
       "      <th>Bathrooms</th>\n",
       "      <th>Status</th>\n",
       "      <th>daysOnSale</th>\n",
       "    </tr>\n",
       "  </thead>\n",
       "  <tbody>\n",
       "    <tr>\n",
       "      <th>0</th>\n",
       "      <td>2</td>\n",
       "      <td>1</td>\n",
       "      <td>27853008</td>\n",
       "      <td>TX</td>\n",
       "      <td>Houston</td>\n",
       "      <td>600</td>\n",
       "      <td>E 40th 1/2 St</td>\n",
       "      <td>77022</td>\n",
       "      <td>29.822659</td>\n",
       "      <td>-95.39235</td>\n",
       "      <td>309000</td>\n",
       "      <td>https://photos.zillowstatic.com/fp/819785428f5...</td>\n",
       "      <td>3</td>\n",
       "      <td>2</td>\n",
       "      <td>FOR_SALE</td>\n",
       "      <td>-1</td>\n",
       "    </tr>\n",
       "    <tr>\n",
       "      <th>1</th>\n",
       "      <td>2</td>\n",
       "      <td>2</td>\n",
       "      <td>28078321</td>\n",
       "      <td>TX</td>\n",
       "      <td>Houston</td>\n",
       "      <td>6215</td>\n",
       "      <td>Great Oaks Dr</td>\n",
       "      <td>77050</td>\n",
       "      <td>29.903404</td>\n",
       "      <td>-95.29729</td>\n",
       "      <td>309000</td>\n",
       "      <td>https://photos.zillowstatic.com/fp/61a6e89f54b...</td>\n",
       "      <td>4</td>\n",
       "      <td>3</td>\n",
       "      <td>FOR_SALE</td>\n",
       "      <td>-1</td>\n",
       "    </tr>\n",
       "    <tr>\n",
       "      <th>2</th>\n",
       "      <td>2</td>\n",
       "      <td>3</td>\n",
       "      <td>28150303</td>\n",
       "      <td>TX</td>\n",
       "      <td>Houston</td>\n",
       "      <td>5930</td>\n",
       "      <td>Lodge Creek Dr</td>\n",
       "      <td>77066</td>\n",
       "      <td>29.974018</td>\n",
       "      <td>-95.51575</td>\n",
       "      <td>309000</td>\n",
       "      <td>https://photos.zillowstatic.com/fp/522c7c7af33...</td>\n",
       "      <td>5</td>\n",
       "      <td>5</td>\n",
       "      <td>FOR_SALE</td>\n",
       "      <td>-1</td>\n",
       "    </tr>\n",
       "    <tr>\n",
       "      <th>3</th>\n",
       "      <td>2</td>\n",
       "      <td>4</td>\n",
       "      <td>28377473</td>\n",
       "      <td>TX</td>\n",
       "      <td>Houston</td>\n",
       "      <td>14822</td>\n",
       "      <td>James River Ln</td>\n",
       "      <td>77084</td>\n",
       "      <td>29.865757</td>\n",
       "      <td>-95.630775</td>\n",
       "      <td>309000</td>\n",
       "      <td>https://photos.zillowstatic.com/fp/c3f1f3e01c7...</td>\n",
       "      <td>4</td>\n",
       "      <td>3</td>\n",
       "      <td>FOR_SALE</td>\n",
       "      <td>-1</td>\n",
       "    </tr>\n",
       "    <tr>\n",
       "      <th>4</th>\n",
       "      <td>2</td>\n",
       "      <td>5</td>\n",
       "      <td>28444756</td>\n",
       "      <td>TX</td>\n",
       "      <td>Houston</td>\n",
       "      <td>12006</td>\n",
       "      <td>Hadley Falls Ct</td>\n",
       "      <td>77067</td>\n",
       "      <td>29.959593</td>\n",
       "      <td>-95.45223</td>\n",
       "      <td>309000</td>\n",
       "      <td>https://photos.zillowstatic.com/fp/a7fd0fca1de...</td>\n",
       "      <td>3</td>\n",
       "      <td>2</td>\n",
       "      <td>FOR_SALE</td>\n",
       "      <td>-1</td>\n",
       "    </tr>\n",
       "  </tbody>\n",
       "</table>\n",
       "</div>"
      ],
      "text/plain": [
       "  Page Item       zid State     City Number           Street zipCode  \\\n",
       "0    2    1  27853008    TX  Houston    600    E 40th 1/2 St   77022   \n",
       "1    2    2  28078321    TX  Houston   6215    Great Oaks Dr   77050   \n",
       "2    2    3  28150303    TX  Houston   5930   Lodge Creek Dr   77066   \n",
       "3    2    4  28377473    TX  Houston  14822   James River Ln   77084   \n",
       "4    2    5  28444756    TX  Houston  12006  Hadley Falls Ct   77067   \n",
       "\n",
       "         Lat        Lng   Price  \\\n",
       "0  29.822659  -95.39235  309000   \n",
       "1  29.903404  -95.29729  309000   \n",
       "2  29.974018  -95.51575  309000   \n",
       "3  29.865757 -95.630775  309000   \n",
       "4  29.959593  -95.45223  309000   \n",
       "\n",
       "                                               Image Bedrooms Bathrooms  \\\n",
       "0  https://photos.zillowstatic.com/fp/819785428f5...        3         2   \n",
       "1  https://photos.zillowstatic.com/fp/61a6e89f54b...        4         3   \n",
       "2  https://photos.zillowstatic.com/fp/522c7c7af33...        5         5   \n",
       "3  https://photos.zillowstatic.com/fp/c3f1f3e01c7...        4         3   \n",
       "4  https://photos.zillowstatic.com/fp/a7fd0fca1de...        3         2   \n",
       "\n",
       "     Status daysOnSale  \n",
       "0  FOR_SALE         -1  \n",
       "1  FOR_SALE         -1  \n",
       "2  FOR_SALE         -1  \n",
       "3  FOR_SALE         -1  \n",
       "4  FOR_SALE         -1  "
      ]
     },
     "execution_count": 15,
     "metadata": {},
     "output_type": "execute_result"
    }
   ],
   "source": [
    "cnames = ['Page', 'Item', 'zid', 'State', 'City', 'Number', 'Street', 'zipCode', 'Lat', 'Lng', 'Price', 'Image', 'Bedrooms', 'Bathrooms', 'Status', 'daysOnSale']\n",
    "df = pd.DataFrame(columns=cnames)\n",
    "\n",
    "for i in range(len(json_response['props'])):\n",
    "    page = json_response['currentPage']\n",
    "    item = i+1\n",
    "    zid = json_response['props'][i]['zpid']\n",
    "    address = json_response['props'][i]['address']\n",
    "    lat = json_response['props'][i]['latitude']\n",
    "    lng = json_response['props'][i]['longitude']\n",
    "    price = json_response['props'][i]['price']\n",
    "    image = json_response['props'][i]['imgSrc']\n",
    "    bedrooms = json_response['props'][i]['bedrooms']\n",
    "    bathrooms = json_response['props'][i]['bathrooms']\n",
    "    status = json_response['props'][i]['listingStatus']\n",
    "    daysOnSale = json_response['props'][i]['daysOnZillow']\n",
    "    \n",
    "    # Regular expressions to breakdown the address into house number, street and ZIP code.\n",
    "    address_num_regex = \"^\\d+\"\n",
    "    address_num_match = re.findall(rf\"{address_num_regex}\", address)\n",
    "    address_num = ''.join(address_num_match)\n",
    "\n",
    "    address_st_regex = \"^\\d+\\s(.+),\\s\" + city\n",
    "    address_st_match = re.findall(rf\"{address_st_regex}\", address)\n",
    "    address_st = ''.join(address_st_match)\n",
    "\n",
    "    address_zip_regex = state + \".(\\d{5})\"\n",
    "    address_zip_match = re.findall(rf\"{address_zip_regex}\", address)\n",
    "    address_zip = ''.join(address_zip_match)\n",
    "    \n",
    "    df_row = {'Page': page, 'Item': item, 'zid': zid, 'State': state, 'City': city, 'Number': address_num, 'Street': address_st, 'zipCode': address_zip, 'Lat': lat, 'Lng': lng, 'Price': price, 'Image': image, 'Bedrooms': bedrooms, 'Bathrooms': bathrooms, 'Status': status, 'daysOnSale': daysOnSale}\n",
    "    df = df.append(df_row, ignore_index=True)\n",
    "\n",
    "df.head(5)"
   ]
  },
  {
   "cell_type": "markdown",
   "id": "7cb2dee1",
   "metadata": {},
   "source": [
    "#### Save the clean DF"
   ]
  },
  {
   "cell_type": "code",
   "execution_count": 16,
   "id": "a8737391",
   "metadata": {},
   "outputs": [],
   "source": [
    "# Save the to a csv file\n",
    "df.to_csv(f'./data/{out_name}.csv', index=False)"
   ]
  },
  {
   "cell_type": "code",
   "execution_count": null,
   "id": "5c4d1e51",
   "metadata": {},
   "outputs": [],
   "source": []
  }
 ],
 "metadata": {
  "kernelspec": {
   "display_name": "PythonData",
   "language": "python",
   "name": "pythondata"
  },
  "language_info": {
   "codemirror_mode": {
    "name": "ipython",
    "version": 3
   },
   "file_extension": ".py",
   "mimetype": "text/x-python",
   "name": "python",
   "nbconvert_exporter": "python",
   "pygments_lexer": "ipython3",
   "version": "3.9.12"
  }
 },
 "nbformat": 4,
 "nbformat_minor": 5
}
